{

"cells": [

  {

   "cell_type": "markdown",

   "metadata": {},

   "source": [

    "# Análisis De Clúster Automático\n"

   ]

  },

  {

   "cell_type": "markdown",

   "metadata": {},

   "source": [

    "### Autores: \n",

    "    Marisol Correa Henao (mcorreah@unal.edu.co)\n",

    "                    \n",

    "### Fecha creación:     \n",

    "    28/03/2019\n",

    "\n",

    "### Descripción:        \n",

    "    Software para Análisis de cluster automático"

   ]

  },

  {

   "cell_type": "markdown",

   "metadata": {},

   "source": [

    "## Dependencias:       \n",

    "\n",

    "A continuación se cargan las librerías necesarias"

   ]

  },

  {

   "cell_type": "code",

   "execution_count": 1,

   "metadata": {},

   "outputs": [],

   "source": [

    "import pandas as pd\n",

    "from pandas.plotting import table\n",

    "import matplotlib.pyplot as plt\n",

    "import seaborn as sns\n",

    "import time\n",

    "import sys\n",

    "import numpy as np\n",

    "from sklearn.preprocessing import MinMaxScaler,StandardScaler,LabelEncoder\n",

    "from sklearn.cluster import KMeans\n",

    "from yellowbrick.cluster import KElbowVisualizer\n",

    "import warnings\n",

    "import ipywidgets as widgets\n",

    "from IPython.display import display\n",

    "from ipyfilechooser import FileChooser\n",

    "import os"

   ]

  },

  {

   "cell_type": "markdown",

   "metadata": {},

   "source": [

    "## Parametrización\n",

    "\n",

    "Se crean los parámetros necesarios"

   ]

  },

  {

   "cell_type": "markdown",

   "metadata": {},

   "source": [

    "## Funciones para clusterización\n",

    "\n",

    "Se crean las funciones necesarias para cada etapa de la clusterización"

   ]

  },

  {

   "cell_type": "code",

   "execution_count": null,

   "metadata": {},

   "outputs": [],

   "source": [

    "##\n",

    "# Leer archivo\n",

    "##\n",

    "\n",

    "def leer_datos(ruta, enc, sp):\n",

    "    data = None\n",

    "    start_time = time.time()\n",

    "    \n",

    "    # Obtenemos la extensión del archivo\n",

    "    file_ext = ruta.split(\".\")[-1]\n",

    "    #data = pd.read_sql(ruta + \".\" + archivo,cn)\n",

    "    # Si file_ext es xlsx se leerá la base usando la función de pandas read_excel.\n",

    "    if file_ext == 'xlsx':\n",

    "        print(\"Leyendo el fichero \" + ruta)\n",

    "        \n",

    "        # INTENTAMOS LEER EL FICHERO CON LA LIBRERÍA PANDAS DE PYTHON.\n",

    "        try:\n",

    "            data = pd.read_excel(ruta, na_values = 'None')            \n",

    "        # Si falla la lectura del archivo finalizamos la ejecución y escribimos en el log\n",

    "        except Exception as e:\n",

    "            msg = \"ERROR: \" + str(e)\n",

    "\n",

    "            # Finalizamos el programa y mostramos un mensaje de alerta.\n",

    "            sys.exit(\"¡\" + msg + \"! \\n\\tLA EJECUCIÓN FINALIZÓ...\")\n",

    "\n",

    "    # Si file_ext es csv se leerá la base usando la función de pandas read_csv.\n",

    "    elif file_ext == 'csv' or file_ext == 'txt':\n",

    "        print(\"Leyendo el fichero \" + ruta)\n",

    "\n",

    "        # Intentamos leer el archivo con pandas\n",

    "        try:\n",

    "            data = pd.read_csv(ruta, sep = sp,  low_memory = False, na_values = 'None')            \n",

    "        # Si falla la lectura del archivo finalizamos la ejecución y escribimos en el log.\n",

    "        except Exception as e:\n",

    "            msg = \"ERROR: \" + str(e)\n",

    "\n",

    "            # Finalizamos el programa y mostramos un mensaje de alerta.\n",

    "            sys.exit(\"¡\" + msg + \"! \\n\\tLA EJECUCIÓN FINALIZÓ...\")\n",

    "            \n",

    "    # Si file_ext no esta contemplado se escribirá en el log el error correspondiente.\n",

    "    else:\n",

    "        msg = \"ERROR: La extensión \" + ruta.upper() + \" no es válida para la lectura de datos.\"\n",

    "\n",

    "        # Finalizamos el programa y mostramos un mensaje de alerta.\n",

    "        sys.exit(\"¡\" + msg + \"! \\n\\tLA EJECUCIÓN FINALIZÓ...\")\n",

    "        \n",

    "    tiempo_usado_lc = (time.time() - start_time)/60 \n",

    "    tiempo_usado_lc = '{:6.2f}'.format(tiempo_usado_lc)\n",

    "    print(\"\\tArchivo leido satisfactoriamente en:\" + str(tiempo_usado_lc) + \" minutos\")\n",

    "    print(\"\\tSe cargaron {:,} filas y {:,} columnas\".format(data.shape[0], data.shape[1]))    \n",

    "    \n",

    "    # Regresamos el fichero leido como un data frame.\n",

    "    return data, tiempo_usado_lc\n",

    "\n",

    "\n",

    "##\n",

    "# variables identificadoras, nulas y a omitir\n",

    "##\n",

    "def tipo_variables(datos,ncat):\n",

    "    ids=[]\n",

    "    omitir=[]\n",

    "    for i in datos.columns:\n",

    "        #ids sugeridos\n",

    "        if(datos[i].nunique() == datos.shape[0]): ids.append(i)\n",

    "        # Nulos\n",

    "        if(all(datos[i].isnull())): omitir.append(i)\n",

    "        # Si los datos que hay en la columna son siempre el mismo, se da una advertencia\n",

    "        if(datos[i].nunique() == 1): omitir.append(i)        \n",

    "\n",

    "    ##\n",

    "    # Identificar tipo variables\n",

    "    ##\n",

    "\n",

    "    tipos={}\n",

    "    for i in range(0,len(datos.dtypes.value_counts())):\n",

    "        tipo_dato = datos.dtypes.value_counts().index[i].kind\n",

    "        tipoj=[]\n",

    "        for j in range(0,datos.shape[1]):\n",

    "            if(datos.dtypes[j].kind==tipo_dato):\n",

    "                tipoj.append(datos.dtypes.index[j])\n",

    "        tipos[tipo_dato]=tipoj\n",

    "    '''\n",

    "    if not np.issubdtype(df_analysis[col].dtype, np.number):\n",

    "                print(f'La variable {cb}{col}{cc} NO es numerica')\n",

    "                continue\n",

    "    '''\n",

    "    numeric = tipos.get('i',[]) + tipos.get('f',[]) + tipos.get('u',[])\n",

    "    c = datos[numeric].nunique()\n",

    "    categoric2 = c[c<=ncat].axes[0].tolist()    \n",

    "    for i in categoric2: numeric.remove(i)\n",

    "    categoric =  categoric2 + tipos.get('b',[])+tipos.get('c',[])+tipos.get('m',[])+tipos.get('M',[])+tipos.get('O',[])+tipos.get('S',[])+tipos.get('U',[])+tipos.get('V',[])\n",

    "    datos[categoric2] = datos[categoric2].astype('str')\n",

    "    categoric = [x for x in categoric if(x not in omitir and x not in ids) ]   \n",

    "    numeric = [x for x in numeric if(x not in omitir and x not in ids) ]\n",

    "    return numeric, categoric, omitir, ids\n",

    "\n",

    "\n",

    "#######\n",

    "#  Esta función permite cambiar el tipo de datos\n",

    "#  2: Si el cambio es a un tipo categórico\n",

    "#  1: Si el cambio es a un tipo númerico\n",

    "#  0: Si el cambio es a un tipo omitir\n",

    "#  -1: Si el cambio es a un tipo identificador\n",

    "#########\n",

    "def cambiar_tipo_a(datos,variables,tipo,numeric,categoric,omitir,ids):\n",

    "    data = datos.copy()\n",

    "    for i in variables: \n",

    "        if(tipo==1): # cambiar a númerico\n",

    "            if(i in categoric): categoric.remove(i)\n",

    "            if(i in omitir): omitir.remove(i)\n",

    "            if(i in ids): ids.remove(i)\n",

    "            if(i not in numeric): numeric.append(i)\n",

    "            data[i] = data[i].astype('float',errors=\"ignore\")\n",

    "        elif(tipo==2): # cambiar a categorico\n",

    "            if(i in numeric): numeric.remove(i)\n",

    "            if(i in omitir): omitir.remove(i)\n",

    "            if(i in ids): ids.remove(i)\n",

    "            if(i not in categoric): categoric.append(i)\n",

    "            data[i] = data[i].astype('str',errors=\"ignore\")\n",

    "        elif(tipo==0): #cambiar a omitir\n",

    "            if(i in categoric): categoric.remove(i)\n",

    "            if(i in numeric): numeric.remove(i) \n",

    "            if(i in ids): ids.remove(i)\n",

    "            if(i not in omitir): omitir.append(i)\n",

    "            data = data.drop(i,axis=1)            \n",

    "        else: #cambiar a ids\n",

    "            if(i in categoric): categoric.remove(i)\n",

    "            if(i in numeric): numeric.remove(i) \n",

    "            if(i in omitir): omitir.remove(i)\n",

    "            if(i not in ids): ids.append(i)\n",

    "            data = data.drop(i,axis=1)    \n",

    "        \n",

    "    return data, numeric, categoric, omitir, ids\n",

    "\n",

    "##\n",

    "# Descriptivo (según tipo)\n",

    "##\n",

    "\n",

    "\n",

    "def descriptivo_num(datos,col,flag_zeros,ruta):\n",

    "\n",

    "    # Hallamos los porcentajes de zeros y nulos de la base, correspondiente al despoblamiento.\n",

    "    perc_zeros =  round((datos[datos[col] == 0].shape[0])*100/datos.shape[0], 2)\n",

    "    perc_nulls = round((datos[col].shape[0] - datos[col].dropna().shape[0])*100/datos.shape[0], 2)\n",

    "\n",

    "    # Hallamos el número de valores que no son cero y que tampoco son nulos.\n",

    "    n_rows_clean = datos[~datos[col].isnull() & (datos[col] != 0)].shape[0]\n",

    "\n",

    "    if flag_zeros == 1 and datos[[col]].nunique().values[0] != 2: \n",

    "        datos = datos[datos[col] != 0]\n",

    "\n",

    "    # Calculamos el percentil 95 para gráficar correctamente el boxplot, ya que los outliers arruinan la gráfica.\n",

    "    q95 = datos.quantile(q = 0.95).values[0] if any(datos[col].notnull()) else float('inf')\n",

    "\n",

    "    # Contamos el número de outliers existentes (valores por encima del 95% de los datos).\n",

    "    n_outliers = datos[datos[col] > q95].size\n",

    "\n",

    "    # Creamos un data frame para almacenar las estadísticas\n",

    "    df_other = pd.DataFrame([\"{:0.2f}%\".format(perc_zeros),\"{:0.2f}%\".format(perc_nulls), \"{:,}\".format(n_rows_clean), \"{:,}\".format(n_outliers)], \n",

    "                            index = ['ceros%', 'nulos%','total', 'outliers'],\n",

    "                            columns=[col])\n",

    "\n",

    "    # Calculamos las estadísticas de la columna analizada\n",

    "    df_stats = np.round(datos[col].describe(percentiles = quantiles, include='all'),2).map(\"{:,}\".format)\n",

    "    # Eliminamos la columna count que se encuentra repetida\n",

    "    df_stats = df_stats.drop([\"count\"])\n",

    "\n",

    "    # Concatenamos los dos DataFrame de estadísticas\n",

    "    df_stats = df_other.append(pd.DataFrame(df_stats))\n",

    "    \n",

    "    \n",

    "    # Removemos los datos que se encuentren por encima del 99% de los datos para una mejor visualización de las gráficas.\n",

    "    q99 = datos.quantile(q = 0.99).values[0] if any(datos[col].notnull()) else float('inf')\n",

    "    datos = datos[datos[col] <= q99]\n",

    "\n",

    "    # Creamos la figura y los axes donde se graficará.\n",

    "    fig, axs = plt.subplots(1,2, figsize = (25, 9.6)) \n",

    "\n",

    "    # Agregamos titulo a la figura.\n",

    "    fig.suptitle(col.upper().replace(\"_\", \" \"), fontsize = 20)\n",

    "\n",

    "\n",

    "    # Graficamos la función de densidad de probabilidad.\n",

    "    plt.axes(axs[0])\n",

    "    sns.set(style = \"whitegrid\")\n",

    "    sns.kdeplot(datos[col], shade=True, color=\"r\", legend=False)\n",

    "    plt.ylabel(\"Density\", fontsize = 16)\n",

    "    plt.xlabel(col.replace(\"_\", \" \"), fontsize = 16)\n",

    "\n",

    "    # Graficamos el boxplot.\n",

    "    plt.axes(axs[1])\n",

    "    plt.grid(False)\n",

    "    plt.boxplot(datos[col], widths = 0.09)\n",

    "    plt.ylabel(col)\n",

    "\n",

    "    # Convertimos las estadísticas en string con separación de miles para mejor visualización en la gráfica.\n",

    "    df_stats_plot = df_stats[col]\n",

    "\n",

    "    the_table = table(axs[1], df_stats_plot, loc='upper right', colWidths=[0.15, 0.3, 0.1], cellLoc = 'center')\n",

    "    the_table.auto_set_font_size(False)\n",

    "    the_table.set_fontsize(14)\n",

    "    the_table.scale(2, 2)\n",

    "    plt.ylabel(col.replace(\"_\", \" \"), fontsize = 16)\n",

    "    try:\n",

    "        os.stat(ruta + \"\\\\Graficos\")\n",

    "    except:\n",

    "        os.mkdir(ruta + \"\\\\Graficos\")\n",

    "    # Guardamos la figura.\n",

    "    plt.savefig( ruta + \"\\\\Graficos\\\\\" + col + \".png\")\n",

    "    \n",

    "    # Cerramos la figura para que no se muestre en el notebook\n",

    "    plt.close()\n",

    "    \n",

    "    return df_stats\n",

    "\n",

    "\n",

    "\n",

    "def descriptivo_cat(datos,col,flag_zeros,ruta):\n",

    "    # Hallamos los porcentajes de zeros y nulos de la base, correspondiente al despoblamiento.\n",

    "    perc_zeros =  round((datos[datos[col] == \"0\"].shape[0])*100/datos.shape[0], 2)\n",

    "    perc_nulls = round((datos[col].shape[0] - datos[col].dropna().shape[0])*100/datos.shape[0], 2)\n",

    "\n",

    "    # Hallamos el número de valores que no son cero y que tampoco son nulos.\n",

    "    n_rows_clean = datos[~datos[col].isnull() & (datos[col] != \"0\")].shape[0]\n",

    "\n",

    "    if flag_zeros == 1 and datos[[col]].nunique().values[0] != 2: \n",

    "        datos = datos[datos[col] != \"0\"]\n",

    "    \n",

    "    categorias = 100 * dat[col].value_counts() / len(dat[col])\n",

    "    unicos = dat[col].nunique()\n",

    "    \n",

    "    # Convertimos las estadísticas en string con separación de miles para mejor visualización en la gráfica.\n",

    "    df_stats_plot = pd.DataFrame([\"{:0.2f}%\".format(perc_zeros),\"{:0.2f}%\".format(perc_nulls), \"{:,}\".format(n_rows_clean),\"{:,}\".format(unicos)], \n",

    "                            index = ['ceros%', 'nulos%','total', 'categorias'], \n",

    "                            columns = [col])\n",

    "      # Creamos la figura y los axes donde se graficará.\n",

    "    fig, axs = plt.subplots(1,3, figsize = (25, 9.6)) \n",

    "\n",

    "    # Agregamos titulo a la figura.\n",

    "    fig.suptitle(col.upper().replace(\"_\", \" \"), fontsize = 20)\n",

    " \n",

    "    the_table = table(axs[1], df_stats_plot, loc='center', colWidths=[0.15, 0.3, 0.1], cellLoc = 'center')\n",

    "    the_table.auto_set_font_size(False)\n",

    "    the_table.set_fontsize(14)\n",

    "    the_table.scale(2, 2)\n",

    "    plt.ylabel(col.replace(\"_\", \" \"), fontsize = 16)\n",

    "    axs[0].axis(\"off\") \n",

    "    df_stats_plot = categorias.map(lambda x: \"{:0.2f}%\".format(x))\n",

    "\n",

    "    the_table = table(axs[0], df_stats_plot, loc='upper right', colWidths=[0.15, 0.3, 0.1], cellLoc = 'center')\n",

    "    the_table.auto_set_font_size(False)\n",

    "    the_table.set_fontsize(14)\n",

    "    the_table.scale(2, 2)\n",

    "    plt.ylabel(col.replace(\"_\", \" \"), fontsize = 16)\n",

    "    axs[1].axis(\"off\") \n",

    "\n",

    "    #graficos categoricos\n",

    "    plt.axes(axs[2])\n",

    "    ax = sns.countplot(y=col, data=datos,order = datos[col].value_counts().index)\n",

    "    plt.title(col)\n",

    "    plt.xlabel('%')\n",

    "    total = len(datos[col])\n",

    "    for p in ax.patches:\n",

    "            percentage = '{:.2f}%'.format(100 * p.get_width()/total)\n",

    "            x = p.get_x() + p.get_width() + 0.02\n",

    "            y = p.get_y() + p.get_height()/2\n",

    "            ax.annotate(percentage, (x, y))\n",

    "    try:\n",

    "        os.stat(ruta + \"\\\\Graficos\")\n",

    "    except:\n",

    "        os.mkdir(ruta + \"\\\\Graficos\")\n",

    "    plt.savefig( ruta + \"\\\\Graficos\\\\\" + col + \".png\")\n",

    "    \n",

    "    # Cerramos la figura para que no se muestre en el notebook\n",

    "    plt.close()\n",

    "\n",

    "    return categorias\n",

    "      \n",

    "\n",

    "\n",

    "def descriptivo_inicial(datos,numeric,categoric,ruta):\n",

    "\n",

    "    # general\n",

    "    datos.head(3)\n",

    "    datos.info()\n",

    "    datos.describe()\n",

    "    if len(numeric)>0:\n",

    "        dat[numeric].skew()\n",

    "        dat[numeric].kurt()\n",

    "        correlaciones = dat[numeric].corr()\n",

    "        fig_size = (25,15)\n",

    "        fig, ax = plt.subplots(figsize = fig_size)\n",

    "        sns.heatmap(correlaciones, annot=True, fmt='.4f', \n",

    "                cmap=plt.get_cmap('coolwarm'), cbar=False, ax=ax)\n",

    "        try:\n",

    "            os.stat(ruta + \"\\\\Graficos\")\n",

    "        except:\n",

    "            os.mkdir(ruta + \"\\\\Graficos\")\n",

    "        fig.savefig(ruta + \"\\\\Graficos\\\\\" + \"correlaciones.png\", bbox_inches = \"tight\")\n",

    "        plt.close()\n",

    "        for i in numeric:\n",

    "            descriptivo_num(datos,i,zeros,ruta)\n",

    "    for i in categoric:\n",

    "        descriptivo_cat(datos,i,zeros,ruta)                                            \n",

    "        \n",

    "##\n",

    "# datos atípicos y faltantes\n",

    "##\n",

    "def manejo_datos(datos,tipo,accion,col,valor):\n",

    "    #accion:0 remover\n",

    "    #acción:-1 imputar valor\n",

    "    #acción:1 media\n",

    "    #acción:2 mediana\n",

    "    #acción:3 moda\n",

    "    #tipo:0 atípico\n",

    "    #tipo:1 nulo\n",

    "    data = datos.copy()\n",

   "    for i in col:        \n",

    "        q99 = datos.quantile(q = 0.99).values[0] if any(datos[i].notnull()) else float('inf')\n",

    "        if(accion!=0): #cambiar valor\n",

    "            if(accion==1 and np.issubdtype(data[i].dtype, np.number)): # mean o moda\n",

    "                valor = datos[i].mean()\n",

    "            elif(accion==2 and np.issubdtype(data[i].dtype, np.number)): # mediana\n",

    "                valor = datos[i].median()\n",

    "            elif(accion!=-1): #moda o categórico media o mediana\n",

    "                valor = datos[i].mode()            \n",

    "            if(tipo==0): #atipico\n",

    "                data.loc[data[i] > q99, i] = valor\n",

    "            else: #nulos\n",

    "                data[i] = data[i].fillna(valor)\n",

    "        else: #remover\n",

    "            if(tipo==0): #atipicos\n",

    "                data = data[data[i] > q99]\n",

    "            else: #nulos\n",

    "                data = data[data[i].notna()]              \n",

    "    return data\n",

    "\n",

    "\n",

    "##\n",

    "# Decodificar\n",

    "##\n",

    "\n",

    "def decodificar(numeric,categoric,metodnum,metodcat):\n",

    "    if(len(numeric)>0):\n",

    "        if(metodnum==1): #min max\n",

    "            scaler = MinMaxScaler()\n",

    "        else: #estandarizar\n",

    "            scaler= StandardScaler()\n",

    "        scaled_dat = scaler.fit_transform(numeric)\n",

    "        scaled_dat = pd.DataFrame(scaled_dat, columns=numeric.columns)\n",

    "    else:\n",

    "        scaled_dat = pd.DataFrame([])\n",

    "    if(len(categoric)>0):\n",

    "        if(metodcat==1): #get dummies\n",

    "            decoder_dat = pd.get_dummies(categoric)\n",

    "        else: #decodificar, caso de los ordinales\n",

    "            encoder = LabelEncoder ()\n",

    "            decoder_dat = encoder.fit_transform(categoric)\n",

    "    else:\n",

    "        decoder_dat = pd.DataFrame([])\n",

    "    data = pd.concat([scaled_dat, decoder_dat], axis=1)\n",

    "    \n",

    "    return data\n",

    "        \n",

    "        \n",

    "    \n",

    "\n",

    "##\n",

    "# nro cluster\n",

    "##\n",

    "def get_elbow(datos,min,max,metodo):\n",

    "    if(metodo==1):\n",

    "        metric = 'calinski_harabasz'\n",

    "    elif(metodo==2):\n",

    "        metric = 'silhouette'\n",

    "    else:\n",

    "        metric = 'distortion'\n",

    "    visualizer = KElbowVisualizer(KMeans(), k=(min,max),metric=metric)\n",

    "    warnings.filterwarnings('error')\n",

    "    try:\n",

    "        os.stat(ruta + \"\\\\Graficos\")\n",

    "    except:\n",

    "        os.mkdir(ruta + \"\\\\Graficos\")\n",

    "    try:\n",

    "        visualizer.fit(datos)\n",

    "        visualizer.show( ruta + \"\\\\Graficos\\\\codo.png\")\n",

    "    except Warning:\n",

    "        print('el rango no permite hallar un número óptimo de cluster')        \n",

    "        return 3\n",

    "    return visualizer.elbow_value_\n",

    "       \n",

    "##\n",

    "# cluster\n",

    "##\n",

    "def cluster(datos,n,metodo):\n",

    "    if(metodo==1):\n",

    "        model = KMeans(n_clusters=n)\n",

    "    #if(metodo==2):\n",

    "     #   model = KMedoids(n_clusters=n)\n",

    "    return model.fit(datos).labels_\n",

    "\n",

    "\n",

    "##\n",

    "# interpretación\n",

    "##\n",

    "def interpretacion(datos,numeric,categoric):   \n",

    "     \n",

    "#porcentaje en cada cluster\n",

    "    ax = sns.countplot(y='cluster', data=datos)\n",

    "    plt.title('Porcentaje Cluster')\n",

    "    plt.xlabel('%')\n",

    "    total = len(datos['cluster'])\n",

    "    for p in ax.patches:\n",

    "            percentage = '{:.2f}%'.format(100 * p.get_width()/total)\n",

    "            x = p.get_x() + p.get_width() + 0.02\n",

    "            y = p.get_y() + p.get_height()/2\n",

    "            ax.annotate(percentage, (x, y))\n",

    "    try:\n",

    "        os.stat(ruta + \"\\\\Resultados\")\n",

    "    except:\n",

    "        os.mkdir(ruta + \"\\\\Resultados\")\n",

    "    plt.savefig( ruta + \"\\\\Resultados\\\\general.png\")\n",

    "\n",

    "#boxplots\n",

    "\n",

    "            # Gráficamos un boxplot por cada clúster\n",

    "    for col in numeric:\n",

    "        fig, axs = plt.subplots(1,2, figsize = (25,9.6)) \n",

    "\n",

    "    # Agregamos titulo a la figura.\n",

    "        fig.suptitle(col.upper().replace(\"_\", \" \"), fontsize = 20)\n",

    "        grouped_data = datos[[col,'cluster']].groupby('cluster')\n",

    "        # Estadísticas para todas las columnas numéricas por cluster\n",

    "        tab = np.round(grouped_data.describe(),2)\n",

    "        \n",

    "        the_table = table(axs[1], tab, loc='center',cellLoc = 'center')\n",

    "        the_table.set_fontsize(14)\n",

    "        the_table.scale(1.3, 2)\n",

    "        axs[1].axis(\"off\")  \n",

    "        \n",

    "        plt.axes(axs[0])\n",

    "        ax = sns.boxplot(y = col, x = 'cluster', data = datos, orient = \"v\", width = 0.45, palette = \"Set1\")\n",

    "        \n",

    "                    # Pesonalizamos la gráfica\n",

    "        ax.set_ylabel(col.replace(\"_\", \" \"), fontsize = 15)\n",

    "        ax.set_xlabel(\"Número clúster\", fontsize = 15)\n",

    "        try:\n",

    "            os.stat(ruta + \"\\\\Resultados\")\n",

    "        except:\n",

    "            os.mkdir(ruta + \"\\\\Resultados\")\n",

    "        plt.savefig( ruta + \"\\\\Resultados\\\\\" + col + \".png\")\n",

    "        \n",

    "\n",

    "   # Gráfico de barras de sobreviviviente segun clase\n",

    "    for col in categoric:\n",

    "        fig, axs = plt.subplots(2,1, figsize = (25,9.6)) \n",

    "\n",

    "    # Agregamos titulo a la figura.\n",

    "        fig.suptitle(col.upper().replace(\"_\", \" \"), fontsize = 20)\n",

    "        tab = np.round(pd.crosstab(index=datos[col],\n",

    "            columns=datos['cluster']).apply(lambda r: r/r.sum() *100,axis=0),2)\n",

    "        the_table = table(axs[0], tab, loc='center',cellLoc = 'center')\n",

    "        axs[0].axis(\"off\")    \n",

    "        try:\n",

    "            os.stat(ruta + \"\\\\Resultados\")\n",

    "        except:\n",

    "            os.mkdir(ruta + \"\\\\Resultados\")\n",

    "        plt.savefig( ruta + \"\\\\Resultados\\\\\" + col + \"2.png\")     \n",

    "        plt.axes(axs[1])\n",

    "        tab.plot(kind='bar')       \n",

    "        plt.savefig( ruta + \"\\\\Resultados\\\\\" + col + \".png\")                    \n",

    "\n",

    "       \n",

    "def principales_vars(datos_norm):\n",

    "    perfilado = datos_norm.groupby('cluster').mean() \n",

    "    perfilado.reset_index( drop = False, inplace = True )\n",

    "    perfilado['__fac_x__'] = perfilado['cluster'].map(lambda x: f'Cluster {x+1}')                                       \n",

    "    perfilado.drop('cluster', axis = 1, inplace = True )    \n",

    "\n",

    "    fac_y = list(perfilado.drop( ['__fac_x__'], axis = 1 ).columns)\n",

    "    fac_x = list(perfilado['__fac_x__'])      \n",

    "\n",

    "    list_of_lists = [ [name] * len(perfilado['__fac_x__'].unique()) for name in fac_y ]\n",

    "    y = [ itm for list_ in list_of_lists for itm in list_ ]\n",

    "    x = fac_x * len(fac_y)\n",

    "    \n",

    "    tup_key = list( zip(y, x) )\n",

    "    medias_clus = [ perfilado.loc[ perfilado[\"__fac_x__\"] == tup[1], tup[0] ].values[0]  for tup in tup_key ]                  \n",

    "    data = dict(x = x, y = y, medias_clus = medias_clus)\n",

    "    \n",

    "    main_vars = pd.DataFrame(data)\n",

    "\n",

    "    main_vars = main_vars.sort_values(['x', 'medias_clus'], ascending = [1,0]).groupby('x').apply(lambda x: x)\n",

    "    \n",

    "    top_vars = main_vars.groupby('x').head(5).reset_index(drop = True)\n",

    "    bottom_vars = main_vars.groupby('x').tail(5).reset_index(drop = True)\n",

    "    main_vars = pd.concat([top_vars, bottom_vars])\n",

    "    main_vars = main_vars.sort_values('x')\n",

    "\n",

    "    return main_vars\n",

    "##\n",

    "# exportar\n",

    "##\n",

    "\n",

    "def exportar(datos,ruta_salida,nombre_archivo,formato):\n",

    "    if(formato==1):\n",

    "        datos.to_excel(ruta_salida+nombre_archivo+\".xlsx\")\n",

    "    else:\n",

    "        datos.to_csv(ruta_salida+nombre_archivo+\".csv\")\n",

    "        \n",

    "def on_button_clicked(a):\n",

    "    print(\"CAMBIOS:\")\n",

    "    global numn,catn,idsn,omitn\n",

    "    numn=[]\n",

    "    catn=[]\n",

    "    idsn=[]\n",

    "    omitn=[]\n",

    "    for i in num2:\n",

    "        if(i.value!='Numerica'):\n",

    "            if i.value == 'Categorica':\n",

    "                catn.append(i.description)\n",

    "            elif i.value == 'Identificador':\n",

    "                idsn.append(i.description)\n",

    "            else:\n",

    "                omitn.append(i.description)\n",

    "            print('cambió ' + str(i.description) + \" de Númerica a: \" + str(i.value))\n",

    "    for i in cat2:\n",

    "        if(i.value!='Categorica'):\n",

    "            if i.value == 'Numerica':\n",

    "                numn.append(i.description)\n",

    "            elif i.value == 'Identificador':\n",

    "                idsn.append(i.description)\n",

    "            else:\n",

    "                omitn.append(i.description)\n",

    "            print('cambió ' + str(i.description) + \" de Categorica a: \" + str(i.value))\n",

    "    for i in ids2:\n",

    "        if(i.value!='Identificador'):\n",

    "            if i.value == 'Numerica':\n",

    "                numn.append(i.description)\n",

    "            elif i.value == 'Categorica':\n",

    "                catn.append(i.description)\n",

    "            else:\n",

    "                omitn.append(i.description)\n",

    "            print('cambió ' + str(i.description) + \" de Identificador a: \" + str(i.value))\n",

    "    for i in omit2:\n",

    "        if(i.value!='Omitir'):\n",

    "            if i.value == 'Numerica':\n",

    "                numn.append(i.description)\n",

    "            elif i.value == 'Categorica':\n",

    "                catn.append(i.description)\n",

    "            else:\n",

    "                idsn.append(i.description)\n",

    "            print('cambió ' + str(i.description) + \" de Omitir a: \" + str(i.value))\n",

    "            \n",

    "def on_button_clicked2(a):\n",

    "    for i in cambios_deco:\n",

    "        if(i.value!=i.description):\n",

    "            base_dec[i.placeholder] = base_dec[i.placeholder].map({i.description:i.value},na_action='ignore')"

   ]

  },

  {

   "cell_type": "code",

   "execution_count": 3,

   "metadata": {},

   "outputs": [],

   "source": [

    "catn=[]\n",

    "numn=[]\n",

    "omitn=[]\n",

    "idsn=[]\n",

    "num2 = []\n",

    "cat2 = []\n",

    "ids2 = []\n",

    "omit2 = []\n",

    "# Si flag_zeros = 1 se realiza un análisis excluyendo los ceros.\n",

    "zeros = 0\n",

    "ncat = 10\n",

    "quantiles = [0.01, 0.05, 0.1, 0.2, 0.25, 0.3, 0.5, 0.7, 0.75, 0.8, 0.9, 0.95, 0.99]\n",

    "variables = []\n",

    "tipo_cambio = 0\n",

    "min = 2\n",

    "max = 6"

   ]

  },

  {

   "cell_type": "markdown",

   "metadata": {},

   "source": [

    "## Lectura de datos"

   ]

  },

  {

   "cell_type": "code",

   "execution_count": null,

   "metadata": {},

   "outputs": [],

   "source": [

    "fc = FileChooser('/')\n",

    "display(fc)\n",

    "sep=widgets.RadioButtons( options=[';', ',', ('tab','\\t')], description ='Separador',disabled=False)\n",

    "enco=widgets.RadioButtons( options=['ISO-8859-1', 'ascii', 'latin_1','utf_8'], description ='Encoding',disabled=False)\n",

    "opciones=widgets.HBox([sep,enco])\n",

    "display(opciones)"

   ]

  },

  {

   "cell_type": "code",

   "execution_count": null,

   "metadata": {},

   "outputs": [],

   "source": [

    "ruta = fc.selected_path\n",

    "archivo = fc.selected_filename"

   ]

  },

  {

   "cell_type": "code",

   "execution_count": 6,

   "metadata": {},

   "outputs": [

    {

     "name": "stdout",

     "output_type": "stream",

     "text": [

      "Leyendo el fichero C:\\Users\\marcorhe\\Documents\\tdg-software.xlsx\n",

      "\tArchivo leido satisfactoriamente en:  0.00 minutos\n",

      "\tSe cargaron 10 filas y 4 columnas\n"

     ]

    }

   ],

   "source": [

    "dat,tiempo = leer_datos(ruta + '\\\\' + archivo,enco.value,sep.value)"

   ]

  },

  {

   "cell_type": "code",

   "execution_count": 7,

   "metadata": {},

   "outputs": [

    {

     "data": {

      "text/html": [

       "<div>\n",

       "<style scoped>\n",

       "    .dataframe tbody tr th:only-of-type {\n",

       "        vertical-align: middle;\n",

       "    }\n",

       "\n",

       "    .dataframe tbody tr th {\n",

       "        vertical-align: top;\n",

       "    }\n",

       "\n",

       "    .dataframe thead th {\n",

       "        text-align: right;\n",

       "    }\n",

       "</style>\n",

       "<table border=\"1\" class=\"dataframe\">\n",

       "  <thead>\n",

       "    <tr style=\"text-align: right;\">\n",

       "      <th></th>\n",

       "      <th>Herramienta</th>\n",

       "      <th>Ventajas</th>\n",

       "      <th>Desventajas</th>\n",

       "      <th>Solución propuesta a través del software a desarrollar</th>\n",

       "    </tr>\n",

       "  </thead>\n",

       "  <tbody>\n",

       "    <tr>\n",

       "      <th>0</th>\n",

       "      <td>Python</td>\n",

       "      <td>•\\tContiene una variedad de paquetes que permi...</td>\n",

       "      <td>·        Requiere un conocimiento de las técni...</td>\n",

       "      <td>•\\tAl desarrollarse en python se dispone de la...</td>\n",

       "    </tr>\n",

       "    <tr>\n",

       "      <th>1</th>\n",

       "      <td>Spark</td>\n",

       "      <td>•\\tPermite manejo de grandes volúmenes datos y...</td>\n",

       "      <td>•\\tRequiere un conocimiento de las técnicas a ...</td>\n",

       "      <td>•\\tAl desarrollarse en python se dispone de la...</td>\n",

       "    </tr>\n",

       "    <tr>\n",

       "      <th>2</th>\n",

       "      <td>Mahout</td>\n",

       "      <td>•\\tPermite manejo de grandes volúmenes datos y...</td>\n",

       "      <td>•\\tRequiere un conocimiento de las técnicas a ...</td>\n",

       "      <td>•\\tSe adiciona una interfaz gráfica que permit...</td>\n",

       "    </tr>\n",

       "    <tr>\n",

       "      <th>3</th>\n",

       "      <td>R</td>\n",

       "      <td>•\\tContiene una variedad de paquetes que permi...</td>\n",

       "      <td>•\\tAl no ser un lenguaje muy rápido, con ciert...</td>\n",

       "      <td>•\\tSe adiciona una interfaz gráfica que permit...</td>\n",

       "    </tr>\n",

       "    <tr>\n",

       "      <th>4</th>\n",

       "      <td>SAS</td>\n",

       "      <td>•\\tInterfaz amigable y rapida para cualquier u...</td>\n",

       "      <td>•\\tRequiere un conocimiento de las técnicas a ...</td>\n",

       "      <td>•\\tGratuita\\n•\\tSe analiza cada tipo de dato p...</td>\n",

       "    </tr>\n",

       "    <tr>\n",

       "      <th>5</th>\n",

       "      <td>SPSS</td>\n",

       "      <td>•\\tPermite integración con otras herramientas\\...</td>\n",

       "      <td>•\\tRequiere un conocimiento de las técnicas a ...</td>\n",

       "      <td>•\\tAl desarrollarse en python se dispone de la...</td>\n",

       "    </tr>\n",

       "    <tr>\n",

       "      <th>6</th>\n",

       "      <td>ORANGE</td>\n",

       "      <td>•\\tInterfaz amigable y rapida para cualquier u...</td>\n",

       "      <td>•\\tRequiere un conocimiento de las técnicas a ...</td>\n",

       "      <td>•\\tSe analiza cada tipo de dato para ofrecer l...</td>\n",

       "    </tr>\n",

       "    <tr>\n",

       "      <th>7</th>\n",

       "      <td>RAPIDMINER</td>\n",

       "      <td>•\\tPermite integración con otras herramientas\\...</td>\n",

       "      <td>•\\tRequiere un conocimiento de las técnicas a ...</td>\n",

       "      <td>•\\tAl desarrollarse en python se dispone de la...</td>\n",

       "    </tr>\n",

       "    <tr>\n",

       "      <th>8</th>\n",

       "      <td>WEKA</td>\n",

       "      <td>•\\tInterfaz amigable con el usuario\\n•\\tContie...</td>\n",

       "      <td>•\\tRequiere un conocimiento de las técnicas a ...</td>\n",

       "      <td>•\\tAl desarrollarse en python se dispone de la...</td>\n",

       "    </tr>\n",

       "    <tr>\n",

       "      <th>9</th>\n",

       "      <td>KNIME</td>\n",

       "      <td>•\\tEficiencia en la depuración y manejo descri...</td>\n",

       "      <td>•\\tRequiere un conocimiento de las técnicas a ...</td>\n",

       "      <td>•\\tSe analiza cada tipo de dato para ofrecer l...</td>\n",

       "    </tr>\n",

       "  </tbody>\n",

       "</table>\n",

       "</div>"

      ],

      "text/plain": [

       "  Herramienta                                           Ventajas  \\\n",

       "0      Python  •\\tContiene una variedad de paquetes que permi...   \n",

       "1       Spark  •\\tPermite manejo de grandes volúmenes datos y...   \n",

       "2      Mahout  •\\tPermite manejo de grandes volúmenes datos y...   \n",

       "3           R  •\\tContiene una variedad de paquetes que permi...   \n",

       "4         SAS  •\\tInterfaz amigable y rapida para cualquier u...   \n",

       "5        SPSS  •\\tPermite integración con otras herramientas\\...   \n",

       "6      ORANGE  •\\tInterfaz amigable y rapida para cualquier u...   \n",

       "7  RAPIDMINER  •\\tPermite integración con otras herramientas\\...   \n",

       "8        WEKA  •\\tInterfaz amigable con el usuario\\n•\\tContie...   \n",

       "9       KNIME  •\\tEficiencia en la depuración y manejo descri...   \n",

       "\n",

       "                                         Desventajas  \\\n",

       "0  ·        Requiere un conocimiento de las técni...   \n",

       "1  •\\tRequiere un conocimiento de las técnicas a ...   \n",

       "2  •\\tRequiere un conocimiento de las técnicas a ...   \n",

       "3  •\\tAl no ser un lenguaje muy rápido, con ciert...   \n",

       "4  •\\tRequiere un conocimiento de las técnicas a ...   \n",

       "5  •\\tRequiere un conocimiento de las técnicas a ...   \n",

       "6  •\\tRequiere un conocimiento de las técnicas a ...   \n",

       "7  •\\tRequiere un conocimiento de las técnicas a ...   \n",

       "8  •\\tRequiere un conocimiento de las técnicas a ...   \n",

       "9  •\\tRequiere un conocimiento de las técnicas a ...   \n",

       "\n",

       "  Solución propuesta a través del software a desarrollar  \n",

       "0  •\\tAl desarrollarse en python se dispone de la...      \n",

       "1  •\\tAl desarrollarse en python se dispone de la...      \n",

       "2  •\\tSe adiciona una interfaz gráfica que permit...      \n",

       "3  •\\tSe adiciona una interfaz gráfica que permit...      \n",

       "4  •\\tGratuita\\n•\\tSe analiza cada tipo de dato p...      \n",

       "5  •\\tAl desarrollarse en python se dispone de la...      \n",

       "6  •\\tSe analiza cada tipo de dato para ofrecer l...      \n",

       "7  •\\tAl desarrollarse en python se dispone de la...      \n",

       "8  •\\tAl desarrollarse en python se dispone de la...      \n",

       "9  •\\tSe analiza cada tipo de dato para ofrecer l...      "

      ]

     },

     "execution_count": 7,

     "metadata": {},

     "output_type": "execute_result"

    }

   ],

   "source": [

    "dat"

   ]

  },

  {

   "cell_type": "markdown",

   "metadata": {},

   "source": [

    "## Tipo de Variables"

   ]

  },

  {

   "cell_type": "code",

   "execution_count": 8,

   "metadata": {},

   "outputs": [],

   "source": [

    "num,cat,omit,ids = tipo_variables(dat,ncat)"

   ]

  },

  {

   "cell_type": "code",

   "execution_count": 9,

  "metadata": {},

   "outputs": [

    {

     "data": {

      "application/vnd.jupyter.widget-view+json": {

       "model_id": "872a98ce3c854cdab4c482d7b869a2b7",

       "version_major": 2,

       "version_minor": 0

      },

      "text/plain": [

       "ToggleButtons(description='Solución propuesta a través del software a desarrollar', index=1, options=('Numeric…"

      ]

     },

     "metadata": {},

     "output_type": "display_data"

    },

    {

     "data": {

      "application/vnd.jupyter.widget-view+json": {

       "model_id": "9ceb07f9a57642e38e76db15aab59931",

       "version_major": 2,

       "version_minor": 0

      },

      "text/plain": [

       "ToggleButtons(description='Herramienta', index=2, options=('Numerica', 'Categorica', 'Identificador', 'Omitir'…"

      ]

     },

     "metadata": {},

     "output_type": "display_data"

    },

    {

     "data": {

      "application/vnd.jupyter.widget-view+json": {

       "model_id": "e8e64254736341b4bc4e36a3d9cf97b1",

       "version_major": 2,

       "version_minor": 0

      },

      "text/plain": [

       "ToggleButtons(description='Ventajas', index=2, options=('Numerica', 'Categorica', 'Identificador', 'Omitir'), …"

      ]

     },

     "metadata": {},

     "output_type": "display_data"

    },

    {

     "data": {

      "application/vnd.jupyter.widget-view+json": {

       "model_id": "08b50133c3204a538e28a33f998a5a54",

       "version_major": 2,

       "version_minor": 0

      },

      "text/plain": [

       "ToggleButtons(description='Desventajas', index=2, options=('Numerica', 'Categorica', 'Identificador', 'Omitir'…"

      ]

     },

     "metadata": {},

     "output_type": "display_data"

    },

    {

     "data": {

      "application/vnd.jupyter.widget-view+json": {

       "model_id": "91b4ab4622784a148bbeb89a70edbbdd",

       "version_major": 2,

       "version_minor": 0

      },

      "text/plain": [

       "Button(description='OK', style=ButtonStyle())"

      ]

     },

     "metadata": {},

     "output_type": "display_data"

    }

   ],

   "source": [

    "for i in num:\n",

    "    aux = widgets.ToggleButtons(\n",

    "    options=['Numerica', 'Categorica', 'Identificador','Omitir'],\n",

    "    value='Numerica',\n",

    "    # rows=10,\n",

    "    description=i,\n",

    "    disabled=False\n",

    "    )\n",

    "    display(aux)\n",

    "    #aux.observe(on_click, 'value')\n",

    "    num2.append(aux)\n",

    "    \n",

    "for i in cat:\n",

    "    aux = widgets.ToggleButtons(\n",

    "    options=['Numerica', 'Categorica', 'Identificador','Omitir'],\n",

    "    value='Categorica',\n",

    "    # rows=10,\n",

    "    description=i,\n",

    "    disabled=False\n",

    "    )\n",

    "    display(aux)\n",

    "    #aux.observe(on_click, 'value')\n",

    "    cat2.append(aux)\n",

    "    \n",

    "for i in ids:\n",

    "    aux = widgets.ToggleButtons(\n",

    "    options=['Numerica', 'Categorica', 'Identificador','Omitir'],\n",

    "    value='Identificador',\n",

    "    # rows=10,\n",

    "    description=i,\n",

    "    disabled=False\n",

    "    )\n",

    "    display(aux)\n",

    "    #aux.observe(on_click, 'value')\n",

    "    ids2.append(aux)\n",

    "    \n",

    "for i in omit:\n",

    "    aux = widgets.ToggleButtons(\n",

    "    options=['Numerica', 'Categorica', 'Identificador','Omitir'],\n",

    "    value='Omitir',\n",

    "    # rows=10,\n",

    "    description=i,\n",

    "    disabled=False\n",

    "    )\n",

    "    display(aux)\n",

    "    #aux.observe(on_click, 'value')\n",

    "    omit2.append(aux)\n",

    "select_button = widgets.Button(\n",

    "    description='OK', # User defined\n",

    "    disabled=False\n",

    ")\n",

    "display(select_button)\n",

    "select_button.on_click(on_button_clicked)"

   ]

  },

  {

   "cell_type": "code",

   "execution_count": 10,

   "metadata": {},

   "outputs": [],

   "source": [

    "base,num, cat, omit, ids = cambiar_tipo_a(dat,numn,1,num,cat,omit,ids)\n",

    "base,num, cat, omit, ids = cambiar_tipo_a(base,catn,2,num,cat,omit,ids)\n",

    "base,num, cat, omit, ids = cambiar_tipo_a(base,idsn,-1,num,cat,omit,ids)\n",

    "base,num, cat, omit, ids = cambiar_tipo_a(base,omitn,0,num,cat,omit,ids)\n",

    "numn=[]\n",

    "catn=[]\n",

    "omitn=[]\n",

    "idsn=[]"

   ]

  },

  {

   "cell_type": "markdown",

   "metadata": {},

   "source": [

    "## Análisis Descriptivo"

   ]

  },

  {

   "cell_type": "code",

   "execution_count": 11,

   "metadata": {},

   "outputs": [

    {

     "name": "stdout",

     "output_type": "stream",

     "text": [

      "<class 'pandas.core.frame.DataFrame'>\n",

      "RangeIndex: 10 entries, 0 to 9\n",

      "Data columns (total 4 columns):\n",

      " #   Column                                                  Non-Null Count  Dtype \n",

      "---  ------                                                  --------------  ----- \n",

      " 0   Herramienta                                             10 non-null     object\n",

      " 1   Ventajas                                                10 non-null     object\n",

      " 2   Desventajas                                             10 non-null     object\n",

      " 3   Solución propuesta a través del software a desarrollar  10 non-null     object\n",

      "dtypes: object(4)\n",

      "memory usage: 448.0+ bytes\n"

     ]

    },

    {

     "name": "stderr",

     "output_type": "stream",

     "text": [

      "C:\\Users\\marcorhe\\Anaconda3\\lib\\site-packages\\matplotlib\\backends\\backend_agg.py:238: RuntimeWarning: Glyph 9 missing from current font.\n",

      "  font.set_text(s, 0.0, flags=flags)\n",

      "C:\\Users\\marcorhe\\Anaconda3\\lib\\site-packages\\matplotlib\\backends\\backend_agg.py:201: RuntimeWarning: Glyph 9 missing from current font.\n",

      "  font.set_text(s, 0, flags=flags)\n"

     ]

    }

   ],

   "source": [

    "descriptivo_inicial(base,num,cat,ruta)"

   ]

  },

  {

   "cell_type": "markdown",

   "metadata": {},

   "source": [

    "## Imputar Variables"

   ]

  },

  {

   "cell_type": "markdown",

   "metadata": {},

   "source": [

    "### Datos Atípicos"

   ]

  },

  {

   "cell_type": "code",

   "execution_count": null,

   "metadata": {},

   "outputs": [],

   "source": [

    "accion_atip = widgets.RadioButtons(\n",

    "    options=[('Imputar',-1), ('Reemplazar con Media',1), ('Reemplazar con Mediana',2),('Reemplazar con Moda',3),('Remover',0)],\n",

    "     value=-1,\n",

    "    description='¿Qué desea hacer con los datos atípicos?:',\n",

    "    disabled=False\n",

    ")\n",

    "atip = widgets.Text(\n",

    "    value='0',\n",

    "    placeholder='Valor para reemplazar datos atípicos',\n",

    "    description='Por Valor:',\n",

    "    disabled=False\n",

    ")\n",

    "opc_atip=widgets.HBox([accion_atip,atip])\n",

    "display(opc_atip)"

   ]

  },

  {

   "cell_type": "code",

   "execution_count": null,

   "metadata": {},

   "outputs": [],

   "source": []

  },

  {

   "cell_type": "code",

   "execution_count": 13,

   "metadata": {},

   "outputs": [],

   "source": [

    "#accion:0 remover\n",

    "#acción:-1 imputar valor\n",

    "#acción:1 media\n",

    "#acción:2 mediana\n",

    "#acción:3 moda\n",

    "#tipo:0 atípico\n",

    "#tipo:1 nulo\n",

    "#if(accion_atip.label == 'Remover'):\n",

    "#    base_dep0 = manejo_datos(base,0,0,num,0) #remover atipicos\n",

    "#elif(accion_atip.label == 'Reemplazar con Media'):\n",

    "#    base_dep0 = manejo_datos(base,0,1,num,0) #atipicos cambiar a la media\n",

    "#elif(accion_atip.label == 'Reemplazar con Mediana'):\n",

    "#    base_dep0 = manejo_datos(base,0,2,num,0) #atipicos cambiar a mediana\n",

    "#elif(accion_atip.label == 'Reemplazar con Moda'):\n",

    "#    base_dep0 = manejo_datos(base,0,3,num,0) #atipicos cambiar a moda\n",

    "#else:\n",

    "#    base_dep0 = manejo_datos(base,0,-1,num,int(atip.value)) #atipicos cambiar a valor\n",

    "\n",

    "base_dep0 = manejo_datos(base,0,accion_atip.value,num,int(atip.value)) "

   ]

  },

  {

   "cell_type": "markdown",

   "metadata": {},

   "source": [

    "### Datos Nulos"

   ]

  },

  {

   "cell_type": "code",

   "execution_count": 14,

   "metadata": {},

   "outputs": [

    {

     "data": {

      "application/vnd.jupyter.widget-view+json": {

       "model_id": "53eff69c08384b8494983e5b43f9a15f",

       "version_major": 2,

       "version_minor": 0

      },

      "text/plain": [

       "HBox(children=(RadioButtons(description='¿Qué desea hacer con los datos nulos?:', options=('Imputar', 'Reempla…"

      ]

     },

     "metadata": {},

     "output_type": "display_data"

    }

   ],

   "source": [

    "accion_nul = widgets.RadioButtons(\n",

    "    options=['Imputar', 'Reemplazar con Media', 'Reemplazar con Mediana','Reemplazar con Moda','Remover'],\n",

    "     value='Imputar',\n",

    "    description='¿Qué desea hacer con los datos nulos?:',\n",

    "    disabled=False\n",

    ")\n",

    "nul = widgets.Text(\n",

    "    value='0',\n",

    "    placeholder='Valor para reemplazar datos nulos',\n",

    "    description='Por Valor:',\n",

    "    disabled=False\n",

    ")\n",

    "opc_nul=widgets.HBox([accion_nul,nul])\n",

    "display(opc_nul)"

   ]

  },

  {

   "cell_type": "code",

   "execution_count": 15,

   "metadata": {},

   "outputs": [],

   "source": [

    "#accion:0 remover\n",

    "#acción:-1 imputar valor\n",

    "#acción:1 media\n",

    "#acción:2 mediana\n",

    "#acción:3 moda\n",

    "#tipo:0 atípico\n",

    "#tipo:1 nulo\n",

    "if(accion_nul.label == 'Remover'):\n",

    "    base_dep1 = manejo_datos(base_dep0,1,0,num,0) #remover nulos\n",

    "elif(accion_nul.label == 'Reemplazar con Media'):\n",

    "    base_dep1 = manejo_datos(base_dep0,1,1,num,0) #nulos cambiar a la media\n",

    "elif(accion_nul.label == 'Reemplazar con Mediana'):\n",

    "    base_dep1 = manejo_datos(base_dep0,1,2,num,0) #nulos cambiar a mediana\n",

    "elif(accion_nul.label == 'Reemplazar con Moda'):\n",

    "    base_dep1 = manejo_datos(base_dep0,1,3,num,0) #nulos cambiar a moda\n",

    "else:\n",

    "    base_dep1 = manejo_datos(base_dep0,1,-1,num,int(nul.value)) #nulos cambiar a valor"

   ]

  },

  {

   "cell_type": "markdown",

   "metadata": {},

   "source": [

    "## Preparación de variables"

   ]

  },

  {

   "cell_type": "markdown",

   "metadata": {},

   "source": [

    "### Variables a conservar sin decodificar"

   ]

  },

  {

   "cell_type": "code",

   "execution_count": 16,

   "metadata": {},

   "outputs": [

    {

     "data": {

      "application/vnd.jupyter.widget-view+json": {

       "model_id": "f0de4276a26841b3bd36e388be8bbc3f",

       "version_major": 2,

       "version_minor": 0

      },

      "text/plain": [

       "HBox(children=(Checkbox(value=False, description='Herramienta'), Checkbox(value=False, description='Ventajas')…"

      ]

     },

     "metadata": {},

     "output_type": "display_data"

    }

   ],

   "source": [

    "col_conserv=[]\n",

    "for i in base_dep1.columns:\n",

    "    col_conserv.append(widgets.Checkbox(\n",

    "    value=False,\n",

    "    description=i,\n",

    "    disabled = False\n",

    "    ))\n",

    "opc_conserv = widgets.HBox(col_conserv)   \n",

    "display(opc_conserv)"

   ]

  },

  {

   "cell_type": "code",

   "execution_count": 17,

   "metadata": {},

   "outputs": [],

   "source": [

    "var_conserv=[]\n",

    "for i in range(0,len(base_dep1.columns)):\n",

    "    if(col_conserv[i].value!=False):\n",

    "        var_conserv.append(i)\n",

    "if(len(var_conserv)>0): \n",

    "    conserv = base_dep1.iloc[:,var_conserv]\n",

    "else:\n",

    "    conserv = pd.DataFrame([])"

   ]

  },

  {

   "cell_type": "markdown",

   "metadata": {},

   "source": [

    "### Variables a decodificar"

   ]

  },

  {

   "cell_type": "markdown",

   "metadata": {},

   "source": [

    "### Númericas"

   ]

  },

  {

   "cell_type": "code",

   "execution_count": 18,

   "metadata": {},

   "outputs": [

    {

     "data": {

      "application/vnd.jupyter.widget-view+json": {

       "model_id": "6f6cf4e583204eb38ea479e5e69ba230",

       "version_major": 2,

       "version_minor": 0

      },

      "text/plain": [

       "VBox(children=(HBox(), HBox(children=(Dropdown(description='Solución propuesta a través del software a desarro…"

      ]

     },

     "metadata": {},

     "output_type": "display_data"

    }

   ],

   "source": [

    "col_num=[]\n",

    "col_cat=[]\n",

    "for i in num:\n",

    "    col_num.append(widgets.Dropdown(\n",

    "    options=['Min-Max', 'Estandarizar'],\n",

    "    value='Min-Max',\n",

    "    description=i,\n",

    "    disabled=False,\n",

    "))\n",

    "opc_num = widgets.HBox(col_num)   \n",

    "for i in cat:\n",

    "    col_cat.append(widgets.Dropdown(\n",

    "    options=['Dummies', 'Decodificar'],\n",

    "    value='Dummies',\n",

    "    description=i,\n",

    "    disabled=False,\n",

    "))\n",

    "opc_cat = widgets.HBox(col_cat) \n",

    "opc_base = widgets.VBox([opc_num,opc_cat])\n",

    "display(opc_base)"

   ]

  },

  {

   "cell_type": "code",

   "execution_count": 20,

   "metadata": {},

   "outputs": [],

   "source": [

    "cat_uno = []\n",

    "cat_cero =[]\n",

    "num_uno = []\n",

    "num_cero = []\n",

    "for i in col_cat:\n",

    "    if(i.value=='Dummies'):\n",

    "        cat_uno.append(i.description)\n",

    "    else:\n",

    "        cat_cero.append(i.description)\n",

    "        \n",

    "for i in col_num:\n",

    "    if(i.value=='Min-Max'):\n",

    "        num_uno.append(i.description)\n",

    "    else:\n",

    "        num_cero.append(i.description)\n",

    "if(len(num_uno)==0):\n",

    "    num_uno = pd.DataFrame([]) \n",

    "else: \n",

    "    num_uno = base_dep1.iloc[:,num_uno]\n",

    "if(len(num_cero)==0):\n",

    "    num_cero = pd.DataFrame([]) \n",

    "else: \n",

    "    num_cero = base_dep1.iloc[:,num_cero]\n",

    "    \n",

    "if(len(cat_uno)==0):\n",

    "    cat_uno = pd.DataFrame([]) \n",

    "else: \n",

    "    cat_uno = base_dep1.loc[:,cat_uno]\n",

    "if(len(cat_cero)==0):\n",

    "    cat_cero = pd.DataFrame([]) \n",

    "else: \n",

    "    cat_cero = base_dep1.loc[:,cat_cero]"

   ]

  },

  {

   "cell_type": "code",

   "execution_count": 21,

   "metadata": {},

   "outputs": [],

   "source": [

    "base_dec0 = decodificar(num_uno,cat_uno,1,1) #min max sino estandarizar y get dummies sino decodificar\n",

    "base_dec1 = decodificar(num_cero,cat_cero,0,0) #min max sino estandarizar y get dummies sino decodificar\n",

    "base_dec = pd.concat([base_dec0,base_dec1,conserv], axis=1)"

   ]

  },

  {

   "cell_type": "markdown",

   "metadata": {},

   "source": [

    "### Modificar variables"

   ]

  },

  {

   "cell_type": "code",

   "execution_count": null,

   "metadata": {},

   "outputs": [],

   "source": [

    "cambios_deco = []\n",

    "for i in cat_uno.columns:\n",

    "    for j in cat_uno[i].unique():\n",

    "        cambios_deco.append(widgets.Text(\n",

    "        value=j,\n",

    "        placeholder=i,\n",

    "        description=j,\n",

    "        disabled=False\n",

    "        ))\n",

    "opc_cam = widgets.VBox(cambios_deco) \n",

    "display(opc_cam)\n",

    "select_button2 = widgets.Button(\n",

    "    description='OK', # User defined\n",

    "    disabled=False\n",

    ")\n",

    "display(select_button2)\n",

    "select_button2.on_click(on_button_clicked2)"

   ]

  },

  {

   "cell_type": "markdown",

   "metadata": {},

   "source": [

    "## Seleccionar Número Clúster"

   ]

  },

  {

   "cell_type": "code",

   "execution_count": null,

   "metadata": {},

   "outputs": [],

   "source": [

    "min=widgets.Text(\n",

    "        value=2,\n",

    "        placeholder='ingrese mínimo cluster',\n",

    "        description='Min',\n",

    "        disabled=False\n",

    "        )\n",

    "max=widgets.Text(\n",

    "        value=5,\n",

    "        placeholder='ingrese máximo cluster',\n",

    "        description='max',\n",

    "        disabled=False\n",

    "        )\n",

    "met_nclu=widgets.Dropdown(\n",

    "    options=[('calinski_harabasz',1), ('silhouette',2), ('distortion',0)],\n",

    "    value=0,\n",

    "    description='Metodo:',\n",

    "    disabled=False,\n",

    ")\n",

    "opc_nro_clu = widgets.HBox(min,max,met_nclu) \n",

   "display(opc_nro_clu)"

   ]

  },

  {

   "cell_type": "code",

   "execution_count": 24,

   "metadata": {},

   "outputs": [

    {

     "name": "stdout",

     "output_type": "stream",

     "text": [

      "el rango no permite hallar un número óptimo de cluster\n"

     ]

    },

    {

     "ename": "RuntimeWarning",

     "evalue": "Glyph 9 missing from current font.",

     "output_type": "error",

     "traceback": [

      "\u001b[1;31m---------------------------------------------------------------------------\u001b[0m",

      "\u001b[1;31mRuntimeWarning\u001b[0m                            Traceback (most recent call last)",

      "\u001b[1;32m<ipython-input-24-9b972dc0119f>\u001b[0m in \u001b[0;36m<module>\u001b[1;34m\u001b[0m\n\u001b[0;32m      1\u001b[0m \u001b[0mnclusters\u001b[0m \u001b[1;33m=\u001b[0m \u001b[0mget_elbow\u001b[0m\u001b[1;33m(\u001b[0m\u001b[0mbase_dec\u001b[0m\u001b[1;33m,\u001b[0m\u001b[0mmin\u001b[0m\u001b[1;33m,\u001b[0m\u001b[0mmax\u001b[0m\u001b[1;33m,\u001b[0m\u001b[1;36m0\u001b[0m\u001b[1;33m)\u001b[0m\u001b[1;33m\u001b[0m\u001b[1;33m\u001b[0m\u001b[0m\n\u001b[0;32m      2\u001b[0m \u001b[0mdat\u001b[0m\u001b[1;33m[\u001b[0m\u001b[1;34m'cluster'\u001b[0m\u001b[1;33m]\u001b[0m \u001b[1;33m=\u001b[0m \u001b[0mcluster\u001b[0m\u001b[1;33m(\u001b[0m\u001b[0mbase_dec\u001b[0m\u001b[1;33m,\u001b[0m\u001b[0mnclusters\u001b[0m\u001b[1;33m,\u001b[0m\u001b[1;36m1\u001b[0m\u001b[1;33m)\u001b[0m\u001b[1;33m\u001b[0m\u001b[1;33m\u001b[0m\u001b[0m\n\u001b[1;32m----> 3\u001b[1;33m \u001b[0minterpretacion\u001b[0m\u001b[1;33m(\u001b[0m\u001b[0mdat\u001b[0m\u001b[1;33m,\u001b[0m\u001b[0mnum\u001b[0m\u001b[1;33m,\u001b[0m\u001b[0mcat\u001b[0m\u001b[1;33m)\u001b[0m\u001b[1;33m\u001b[0m\u001b[1;33m\u001b[0m\u001b[0m\n\u001b[0m",

      "\u001b[1;32m<ipython-input-2-bdc7fe771a59>\u001b[0m in \u001b[0;36minterpretacion\u001b[1;34m(datos, numeric, categoric)\u001b[0m\n\u001b[0;32m    466\u001b[0m         \u001b[1;32mexcept\u001b[0m\u001b[1;33m:\u001b[0m\u001b[1;33m\u001b[0m\u001b[1;33m\u001b[0m\u001b[0m\n\u001b[0;32m    467\u001b[0m             \u001b[0mos\u001b[0m\u001b[1;33m.\u001b[0m\u001b[0mmkdir\u001b[0m\u001b[1;33m(\u001b[0m\u001b[0mruta\u001b[0m \u001b[1;33m+\u001b[0m \u001b[1;34m\"\\\\Resultados\"\u001b[0m\u001b[1;33m)\u001b[0m\u001b[1;33m\u001b[0m\u001b[1;33m\u001b[0m\u001b[0m\n\u001b[1;32m--> 468\u001b[1;33m         \u001b[0mplt\u001b[0m\u001b[1;33m.\u001b[0m\u001b[0msavefig\u001b[0m\u001b[1;33m(\u001b[0m \u001b[0mruta\u001b[0m \u001b[1;33m+\u001b[0m \u001b[1;34m\"\\\\Resultados\\\\\"\u001b[0m \u001b[1;33m+\u001b[0m \u001b[0mcol\u001b[0m \u001b[1;33m+\u001b[0m \u001b[1;34m\"2.png\"\u001b[0m\u001b[1;33m)\u001b[0m\u001b[1;33m\u001b[0m\u001b[1;33m\u001b[0m\u001b[0m\n\u001b[0m\u001b[0;32m    469\u001b[0m         \u001b[0mplt\u001b[0m\u001b[1;33m.\u001b[0m\u001b[0maxes\u001b[0m\u001b[1;33m(\u001b[0m\u001b[0maxs\u001b[0m\u001b[1;33m[\u001b[0m\u001b[1;36m1\u001b[0m\u001b[1;33m]\u001b[0m\u001b[1;33m)\u001b[0m\u001b[1;33m\u001b[0m\u001b[1;33m\u001b[0m\u001b[0m\n\u001b[0;32m    470\u001b[0m         \u001b[0mtab\u001b[0m\u001b[1;33m.\u001b[0m\u001b[0mplot\u001b[0m\u001b[1;33m(\u001b[0m\u001b[0mkind\u001b[0m\u001b[1;33m=\u001b[0m\u001b[1;34m'bar'\u001b[0m\u001b[1;33m)\u001b[0m\u001b[1;33m\u001b[0m\u001b[1;33m\u001b[0m\u001b[0m\n",

      "\u001b[1;32m~\\Anaconda3\\lib\\site-packages\\matplotlib\\pyplot.py\u001b[0m in \u001b[0;36msavefig\u001b[1;34m(*args, **kwargs)\u001b[0m\n\u001b[0;32m    857\u001b[0m \u001b[1;32mdef\u001b[0m \u001b[0msavefig\u001b[0m\u001b[1;33m(\u001b[0m\u001b[1;33m*\u001b[0m\u001b[0margs\u001b[0m\u001b[1;33m,\u001b[0m \u001b[1;33m**\u001b[0m\u001b[0mkwargs\u001b[0m\u001b[1;33m)\u001b[0m\u001b[1;33m:\u001b[0m\u001b[1;33m\u001b[0m\u001b[1;33m\u001b[0m\u001b[0m\n\u001b[0;32m    858\u001b[0m     \u001b[0mfig\u001b[0m \u001b[1;33m=\u001b[0m \u001b[0mgcf\u001b[0m\u001b[1;33m(\u001b[0m\u001b[1;33m)\u001b[0m\u001b[1;33m\u001b[0m\u001b[1;33m\u001b[0m\u001b[0m\n\u001b[1;32m--> 859\u001b[1;33m     \u001b[0mres\u001b[0m \u001b[1;33m=\u001b[0m \u001b[0mfig\u001b[0m\u001b[1;33m.\u001b[0m\u001b[0msavefig\u001b[0m\u001b[1;33m(\u001b[0m\u001b[1;33m*\u001b[0m\u001b[0margs\u001b[0m\u001b[1;33m,\u001b[0m \u001b[1;33m**\u001b[0m\u001b[0mkwargs\u001b[0m\u001b[1;33m)\u001b[0m\u001b[1;33m\u001b[0m\u001b[1;33m\u001b[0m\u001b[0m\n\u001b[0m\u001b[0;32m    860\u001b[0m     \u001b[0mfig\u001b[0m\u001b[1;33m.\u001b[0m\u001b[0mcanvas\u001b[0m\u001b[1;33m.\u001b[0m\u001b[0mdraw_idle\u001b[0m\u001b[1;33m(\u001b[0m\u001b[1;33m)\u001b[0m   \u001b[1;31m# need this if 'transparent=True' to reset colors\u001b[0m\u001b[1;33m\u001b[0m\u001b[1;33m\u001b[0m\u001b[0m\n\u001b[0;32m    861\u001b[0m     \u001b[1;32mreturn\u001b[0m \u001b[0mres\u001b[0m\u001b[1;33m\u001b[0m\u001b[1;33m\u001b[0m\u001b[0m\n",

      "\u001b[1;32m~\\Anaconda3\\lib\\site-packages\\matplotlib\\figure.py\u001b[0m in \u001b[0;36msavefig\u001b[1;34m(self, fname, transparent, **kwargs)\u001b[0m\n\u001b[0;32m   2309\u001b[0m                 \u001b[0mpatch\u001b[0m\u001b[1;33m.\u001b[0m\u001b[0mset_edgecolor\u001b[0m\u001b[1;33m(\u001b[0m\u001b[1;34m'none'\u001b[0m\u001b[1;33m)\u001b[0m\u001b[1;33m\u001b[0m\u001b[1;33m\u001b[0m\u001b[0m\n\u001b[0;32m   2310\u001b[0m \u001b[1;33m\u001b[0m\u001b[0m\n\u001b[1;32m-> 2311\u001b[1;33m         \u001b[0mself\u001b[0m\u001b[1;33m.\u001b[0m\u001b[0mcanvas\u001b[0m\u001b[1;33m.\u001b[0m\u001b[0mprint_figure\u001b[0m\u001b[1;33m(\u001b[0m\u001b[0mfname\u001b[0m\u001b[1;33m,\u001b[0m \u001b[1;33m**\u001b[0m\u001b[0mkwargs\u001b[0m\u001b[1;33m)\u001b[0m\u001b[1;33m\u001b[0m\u001b[1;33m\u001b[0m\u001b[0m\n\u001b[0m\u001b[0;32m   2312\u001b[0m \u001b[1;33m\u001b[0m\u001b[0m\n\u001b[0;32m   2313\u001b[0m         \u001b[1;32mif\u001b[0m \u001b[0mtransparent\u001b[0m\u001b[1;33m:\u001b[0m\u001b[1;33m\u001b[0m\u001b[1;33m\u001b[0m\u001b[0m\n",

     "\u001b[1;32m~\\Anaconda3\\lib\\site-packages\\matplotlib\\backend_bases.py\u001b[0m in \u001b[0;36mprint_figure\u001b[1;34m(self, filename, dpi, facecolor, edgecolor, orientation, format, bbox_inches, pad_inches, bbox_extra_artists, backend, **kwargs)\u001b[0m\n\u001b[0;32m   2208\u001b[0m \u001b[1;33m\u001b[0m\u001b[0m\n\u001b[0;32m   2209\u001b[0m             \u001b[1;32mtry\u001b[0m\u001b[1;33m:\u001b[0m\u001b[1;33m\u001b[0m\u001b[1;33m\u001b[0m\u001b[0m\n\u001b[1;32m-> 2210\u001b[1;33m                 result = print_method(\n\u001b[0m\u001b[0;32m   2211\u001b[0m                     \u001b[0mfilename\u001b[0m\u001b[1;33m,\u001b[0m\u001b[1;33m\u001b[0m\u001b[1;33m\u001b[0m\u001b[0m\n\u001b[0;32m   2212\u001b[0m                     \u001b[0mdpi\u001b[0m\u001b[1;33m=\u001b[0m\u001b[0mdpi\u001b[0m\u001b[1;33m,\u001b[0m\u001b[1;33m\u001b[0m\u001b[1;33m\u001b[0m\u001b[0m\n",

      "\u001b[1;32m~\\Anaconda3\\lib\\site-packages\\matplotlib\\backend_bases.py\u001b[0m in \u001b[0;36mwrapper\u001b[1;34m(*args, **kwargs)\u001b[0m\n\u001b[0;32m   1637\u001b[0m             \u001b[0mkwargs\u001b[0m\u001b[1;33m.\u001b[0m\u001b[0mpop\u001b[0m\u001b[1;33m(\u001b[0m\u001b[0marg\u001b[0m\u001b[1;33m)\u001b[0m\u001b[1;33m\u001b[0m\u001b[1;33m\u001b[0m\u001b[0m\n\u001b[0;32m   1638\u001b[0m \u001b[1;33m\u001b[0m\u001b[0m\n\u001b[1;32m-> 1639\u001b[1;33m         \u001b[1;32mreturn\u001b[0m \u001b[0mfunc\u001b[0m\u001b[1;33m(\u001b[0m\u001b[1;33m*\u001b[0m\u001b[0margs\u001b[0m\u001b[1;33m,\u001b[0m \u001b[1;33m**\u001b[0m\u001b[0mkwargs\u001b[0m\u001b[1;33m)\u001b[0m\u001b[1;33m\u001b[0m\u001b[1;33m\u001b[0m\u001b[0m\n\u001b[0m\u001b[0;32m   1640\u001b[0m \u001b[1;33m\u001b[0m\u001b[0m\n\u001b[0;32m   1641\u001b[0m     \u001b[1;32mreturn\u001b[0m \u001b[0mwrapper\u001b[0m\u001b[1;33m\u001b[0m\u001b[1;33m\u001b[0m\u001b[0m\n",

      "\u001b[1;32m~\\Anaconda3\\lib\\site-packages\\matplotlib\\backends\\backend_agg.py\u001b[0m in \u001b[0;36mprint_png\u001b[1;34m(self, filename_or_obj, metadata, pil_kwargs, *args)\u001b[0m\n\u001b[0;32m    507\u001b[0m             \u001b[1;33m*\u001b[0m\u001b[0mmetadata\u001b[0m\u001b[1;33m*\u001b[0m\u001b[1;33m,\u001b[0m \u001b[0mincluding\u001b[0m \u001b[0mthe\u001b[0m \u001b[0mdefault\u001b[0m \u001b[1;34m'Software'\u001b[0m \u001b[0mkey\u001b[0m\u001b[1;33m.\u001b[0m\u001b[1;33m\u001b[0m\u001b[1;33m\u001b[0m\u001b[0m\n\u001b[0;32m    508\u001b[0m         \"\"\"\n\u001b[1;32m--> 509\u001b[1;33m         \u001b[0mFigureCanvasAgg\u001b[0m\u001b[1;33m.\u001b[0m\u001b[0mdraw\u001b[0m\u001b[1;33m(\u001b[0m\u001b[0mself\u001b[0m\u001b[1;33m)\u001b[0m\u001b[1;33m\u001b[0m\u001b[1;33m\u001b[0m\u001b[0m\n\u001b[0m\u001b[0;32m    510\u001b[0m         mpl.image.imsave(\n\u001b[0;32m    511\u001b[0m             \u001b[0mfilename_or_obj\u001b[0m\u001b[1;33m,\u001b[0m \u001b[0mself\u001b[0m\u001b[1;33m.\u001b[0m\u001b[0mbuffer_rgba\u001b[0m\u001b[1;33m(\u001b[0m\u001b[1;33m)\u001b[0m\u001b[1;33m,\u001b[0m \u001b[0mformat\u001b[0m\u001b[1;33m=\u001b[0m\u001b[1;34m\"png\"\u001b[0m\u001b[1;33m,\u001b[0m \u001b[0morigin\u001b[0m\u001b[1;33m=\u001b[0m\u001b[1;34m\"upper\"\u001b[0m\u001b[1;33m,\u001b[0m\u001b[1;33m\u001b[0m\u001b[1;33m\u001b[0m\u001b[0m\n",

      "\u001b[1;32m~\\Anaconda3\\lib\\site-packages\\matplotlib\\backends\\backend_agg.py\u001b[0m in \u001b[0;36mdraw\u001b[1;34m(self)\u001b[0m\n\u001b[0;32m    405\u001b[0m              (self.toolbar._wait_cursor_for_draw_cm() if self.toolbar\n\u001b[0;32m    406\u001b[0m               else nullcontext()):\n\u001b[1;32m--> 407\u001b[1;33m             \u001b[0mself\u001b[0m\u001b[1;33m.\u001b[0m\u001b[0mfigure\u001b[0m\u001b[1;33m.\u001b[0m\u001b[0mdraw\u001b[0m\u001b[1;33m(\u001b[0m\u001b[0mself\u001b[0m\u001b[1;33m.\u001b[0m\u001b[0mrenderer\u001b[0m\u001b[1;33m)\u001b[0m\u001b[1;33m\u001b[0m\u001b[1;33m\u001b[0m\u001b[0m\n\u001b[0m\u001b[0;32m    408\u001b[0m             \u001b[1;31m# A GUI class may be need to update a window using this draw, so\u001b[0m\u001b[1;33m\u001b[0m\u001b[1;33m\u001b[0m\u001b[1;33m\u001b[0m\u001b[0m\n\u001b[0;32m    409\u001b[0m             \u001b[1;31m# don't forget to call the superclass.\u001b[0m\u001b[1;33m\u001b[0m\u001b[1;33m\u001b[0m\u001b[1;33m\u001b[0m\u001b[0m\n",

      "\u001b[1;32m~\\Anaconda3\\lib\\site-packages\\matplotlib\\artist.py\u001b[0m in \u001b[0;36mdraw_wrapper\u001b[1;34m(artist, renderer, *args, **kwargs)\u001b[0m\n\u001b[0;32m     39\u001b[0m                 \u001b[0mrenderer\u001b[0m\u001b[1;33m.\u001b[0m\u001b[0mstart_filter\u001b[0m\u001b[1;33m(\u001b[0m\u001b[1;33m)\u001b[0m\u001b[1;33m\u001b[0m\u001b[1;33m\u001b[0m\u001b[0m\n\u001b[0;32m     40\u001b[0m \u001b[1;33m\u001b[0m\u001b[0m\n\u001b[1;32m---> 41\u001b[1;33m             \u001b[1;32mreturn\u001b[0m \u001b[0mdraw\u001b[0m\u001b[1;33m(\u001b[0m\u001b[0martist\u001b[0m\u001b[1;33m,\u001b[0m \u001b[0mrenderer\u001b[0m\u001b[1;33m,\u001b[0m \u001b[1;33m*\u001b[0m\u001b[0margs\u001b[0m\u001b[1;33m,\u001b[0m \u001b[1;33m**\u001b[0m\u001b[0mkwargs\u001b[0m\u001b[1;33m)\u001b[0m\u001b[1;33m\u001b[0m\u001b[1;33m\u001b[0m\u001b[0m\n\u001b[0m\u001b[0;32m     42\u001b[0m         \u001b[1;32mfinally\u001b[0m\u001b[1;33m:\u001b[0m\u001b[1;33m\u001b[0m\u001b[1;33m\u001b[0m\u001b[0m\n\u001b[0;32m     43\u001b[0m             \u001b[1;32mif\u001b[0m \u001b[0martist\u001b[0m\u001b[1;33m.\u001b[0m\u001b[0mget_agg_filter\u001b[0m\u001b[1;33m(\u001b[0m\u001b[1;33m)\u001b[0m \u001b[1;32mis\u001b[0m \u001b[1;32mnot\u001b[0m \u001b[1;32mNone\u001b[0m\u001b[1;33m:\u001b[0m\u001b[1;33m\u001b[0m\u001b[1;33m\u001b[0m\u001b[0m\n",

      "\u001b[1;32m~\\Anaconda3\\lib\\site-packages\\matplotlib\\figure.py\u001b[0m in \u001b[0;36mdraw\u001b[1;34m(self, renderer)\u001b[0m\n\u001b[0;32m   1861\u001b[0m \u001b[1;33m\u001b[0m\u001b[0m\n\u001b[0;32m   1862\u001b[0m             \u001b[0mself\u001b[0m\u001b[1;33m.\u001b[0m\u001b[0mpatch\u001b[0m\u001b[1;33m.\u001b[0m\u001b[0mdraw\u001b[0m\u001b[1;33m(\u001b[0m\u001b[0mrenderer\u001b[0m\u001b[1;33m)\u001b[0m\u001b[1;33m\u001b[0m\u001b[1;33m\u001b[0m\u001b[0m\n\u001b[1;32m-> 1863\u001b[1;33m             mimage._draw_list_compositing_images(\n\u001b[0m\u001b[0;32m   1864\u001b[0m                 renderer, self, artists, self.suppressComposite)\n\u001b[0;32m   1865\u001b[0m \u001b[1;33m\u001b[0m\u001b[0m\n",

      "\u001b[1;32m~\\Anaconda3\\lib\\site-packages\\matplotlib\\image.py\u001b[0m in \u001b[0;36m_draw_list_compositing_images\u001b[1;34m(renderer, parent, artists, suppress_composite)\u001b[0m\n\u001b[0;32m    129\u001b[0m     \u001b[1;32mif\u001b[0m \u001b[0mnot_composite\u001b[0m \u001b[1;32mor\u001b[0m \u001b[1;32mnot\u001b[0m \u001b[0mhas_images\u001b[0m\u001b[1;33m:\u001b[0m\u001b[1;33m\u001b[0m\u001b[1;33m\u001b[0m\u001b[0m\n\u001b[0;32m    130\u001b[0m         \u001b[1;32mfor\u001b[0m \u001b[0ma\u001b[0m \u001b[1;32min\u001b[0m \u001b[0martists\u001b[0m\u001b[1;33m:\u001b[0m\u001b[1;33m\u001b[0m\u001b[1;33m\u001b[0m\u001b[0m\n\u001b[1;32m--> 131\u001b[1;33m             \u001b[0ma\u001b[0m\u001b[1;33m.\u001b[0m\u001b[0mdraw\u001b[0m\u001b[1;33m(\u001b[0m\u001b[0mrenderer\u001b[0m\u001b[1;33m)\u001b[0m\u001b[1;33m\u001b[0m\u001b[1;33m\u001b[0m\u001b[0m\n\u001b[0m\u001b[0;32m    132\u001b[0m     \u001b[1;32melse\u001b[0m\u001b[1;33m:\u001b[0m\u001b[1;33m\u001b[0m\u001b[1;33m\u001b[0m\u001b[0m\n\u001b[0;32m    133\u001b[0m         \u001b[1;31m# Composite any adjacent images together\u001b[0m\u001b[1;33m\u001b[0m\u001b[1;33m\u001b[0m\u001b[1;33m\u001b[0m\u001b[0m\n",

      "\u001b[1;32m~\\Anaconda3\\lib\\site-packages\\matplotlib\\artist.py\u001b[0m in \u001b[0;36mdraw_wrapper\u001b[1;34m(artist, renderer, *args, **kwargs)\u001b[0m\n\u001b[0;32m     39\u001b[0m                 \u001b[0mrenderer\u001b[0m\u001b[1;33m.\u001b[0m\u001b[0mstart_filter\u001b[0m\u001b[1;33m(\u001b[0m\u001b[1;33m)\u001b[0m\u001b[1;33m\u001b[0m\u001b[1;33m\u001b[0m\u001b[0m\n\u001b[0;32m     40\u001b[0m \u001b[1;33m\u001b[0m\u001b[0m\n\u001b[1;32m---> 41\u001b[1;33m             \u001b[1;32mreturn\u001b[0m \u001b[0mdraw\u001b[0m\u001b[1;33m(\u001b[0m\u001b[0martist\u001b[0m\u001b[1;33m,\u001b[0m \u001b[0mrenderer\u001b[0m\u001b[1;33m,\u001b[0m \u001b[1;33m*\u001b[0m\u001b[0margs\u001b[0m\u001b[1;33m,\u001b[0m \u001b[1;33m**\u001b[0m\u001b[0mkwargs\u001b[0m\u001b[1;33m)\u001b[0m\u001b[1;33m\u001b[0m\u001b[1;33m\u001b[0m\u001b[0m\n\u001b[0m\u001b[0;32m     42\u001b[0m         \u001b[1;32mfinally\u001b[0m\u001b[1;33m:\u001b[0m\u001b[1;33m\u001b[0m\u001b[1;33m\u001b[0m\u001b[0m\n\u001b[0;32m     43\u001b[0m             \u001b[1;32mif\u001b[0m \u001b[0martist\u001b[0m\u001b[1;33m.\u001b[0m\u001b[0mget_agg_filter\u001b[0m\u001b[1;33m(\u001b[0m\u001b[1;33m)\u001b[0m \u001b[1;32mis\u001b[0m \u001b[1;32mnot\u001b[0m \u001b[1;32mNone\u001b[0m\u001b[1;33m:\u001b[0m\u001b[1;33m\u001b[0m\u001b[1;33m\u001b[0m\u001b[0m\n",

      "\u001b[1;32m~\\Anaconda3\\lib\\site-packages\\matplotlib\\cbook\\deprecation.py\u001b[0m in \u001b[0;36mwrapper\u001b[1;34m(*inner_args, **inner_kwargs)\u001b[0m\n\u001b[0;32m    409\u001b[0m                          \u001b[1;32melse\u001b[0m \u001b[0mdeprecation_addendum\u001b[0m\u001b[1;33m,\u001b[0m\u001b[1;33m\u001b[0m\u001b[1;33m\u001b[0m\u001b[0m\n\u001b[0;32m    410\u001b[0m                 **kwargs)\n\u001b[1;32m--> 411\u001b[1;33m         \u001b[1;32mreturn\u001b[0m \u001b[0mfunc\u001b[0m\u001b[1;33m(\u001b[0m\u001b[1;33m*\u001b[0m\u001b[0minner_args\u001b[0m\u001b[1;33m,\u001b[0m \u001b[1;33m**\u001b[0m\u001b[0minner_kwargs\u001b[0m\u001b[1;33m)\u001b[0m\u001b[1;33m\u001b[0m\u001b[1;33m\u001b[0m\u001b[0m\n\u001b[0m\u001b[0;32m    412\u001b[0m \u001b[1;33m\u001b[0m\u001b[0m\n\u001b[0;32m    413\u001b[0m     \u001b[1;32mreturn\u001b[0m \u001b[0mwrapper\u001b[0m\u001b[1;33m\u001b[0m\u001b[1;33m\u001b[0m\u001b[0m\n",

      "\u001b[1;32m~\\Anaconda3\\lib\\site-packages\\matplotlib\\axes\\_base.py\u001b[0m in \u001b[0;36mdraw\u001b[1;34m(self, renderer, inframe)\u001b[0m\n\u001b[0;32m   2745\u001b[0m             \u001b[0mrenderer\u001b[0m\u001b[1;33m.\u001b[0m\u001b[0mstop_rasterizing\u001b[0m\u001b[1;33m(\u001b[0m\u001b[1;33m)\u001b[0m\u001b[1;33m\u001b[0m\u001b[1;33m\u001b[0m\u001b[0m\n\u001b[0;32m   2746\u001b[0m \u001b[1;33m\u001b[0m\u001b[0m\n\u001b[1;32m-> 2747\u001b[1;33m         \u001b[0mmimage\u001b[0m\u001b[1;33m.\u001b[0m\u001b[0m_draw_list_compositing_images\u001b[0m\u001b[1;33m(\u001b[0m\u001b[0mrenderer\u001b[0m\u001b[1;33m,\u001b[0m \u001b[0mself\u001b[0m\u001b[1;33m,\u001b[0m \u001b[0martists\u001b[0m\u001b[1;33m)\u001b[0m\u001b[1;33m\u001b[0m\u001b[1;33m\u001b[0m\u001b[0m\n\u001b[0m\u001b[0;32m   2748\u001b[0m \u001b[1;33m\u001b[0m\u001b[0m\n\u001b[0;32m   2749\u001b[0m         \u001b[0mrenderer\u001b[0m\u001b[1;33m.\u001b[0m\u001b[0mclose_group\u001b[0m\u001b[1;33m(\u001b[0m\u001b[1;34m'axes'\u001b[0m\u001b[1;33m)\u001b[0m\u001b[1;33m\u001b[0m\u001b[1;33m\u001b[0m\u001b[0m\n",

      "\u001b[1;32m~\\Anaconda3\\lib\\site-packages\\matplotlib\\image.py\u001b[0m in \u001b[0;36m_draw_list_compositing_images\u001b[1;34m(renderer, parent, artists, suppress_composite)\u001b[0m\n\u001b[0;32m    129\u001b[0m     \u001b[1;32mif\u001b[0m \u001b[0mnot_composite\u001b[0m \u001b[1;32mor\u001b[0m \u001b[1;32mnot\u001b[0m \u001b[0mhas_images\u001b[0m\u001b[1;33m:\u001b[0m\u001b[1;33m\u001b[0m\u001b[1;33m\u001b[0m\u001b[0m\n\u001b[0;32m    130\u001b[0m         \u001b[1;32mfor\u001b[0m \u001b[0ma\u001b[0m \u001b[1;32min\u001b[0m \u001b[0martists\u001b[0m\u001b[1;33m:\u001b[0m\u001b[1;33m\u001b[0m\u001b[1;33m\u001b[0m\u001b[0m\n\u001b[1;32m--> 131\u001b[1;33m             \u001b[0ma\u001b[0m\u001b[1;33m.\u001b[0m\u001b[0mdraw\u001b[0m\u001b[1;33m(\u001b[0m\u001b[0mrenderer\u001b[0m\u001b[1;33m)\u001b[0m\u001b[1;33m\u001b[0m\u001b[1;33m\u001b[0m\u001b[0m\n\u001b[0m\u001b[0;32m    132\u001b[0m     \u001b[1;32melse\u001b[0m\u001b[1;33m:\u001b[0m\u001b[1;33m\u001b[0m\u001b[1;33m\u001b[0m\u001b[0m\n\u001b[0;32m    133\u001b[0m         \u001b[1;31m# Composite any adjacent images together\u001b[0m\u001b[1;33m\u001b[0m\u001b[1;33m\u001b[0m\u001b[1;33m\u001b[0m\u001b[0m\n",

      "\u001b[1;32m~\\Anaconda3\\lib\\site-packages\\matplotlib\\artist.py\u001b[0m in \u001b[0;36mdraw_wrapper\u001b[1;34m(artist, renderer, *args, **kwargs)\u001b[0m\n\u001b[0;32m     39\u001b[0m                 \u001b[0mrenderer\u001b[0m\u001b[1;33m.\u001b[0m\u001b[0mstart_filter\u001b[0m\u001b[1;33m(\u001b[0m\u001b[1;33m)\u001b[0m\u001b[1;33m\u001b[0m\u001b[1;33m\u001b[0m\u001b[0m\n\u001b[0;32m     40\u001b[0m \u001b[1;33m\u001b[0m\u001b[0m\n\u001b[1;32m---> 41\u001b[1;33m             \u001b[1;32mreturn\u001b[0m \u001b[0mdraw\u001b[0m\u001b[1;33m(\u001b[0m\u001b[0martist\u001b[0m\u001b[1;33m,\u001b[0m \u001b[0mrenderer\u001b[0m\u001b[1;33m,\u001b[0m \u001b[1;33m*\u001b[0m\u001b[0margs\u001b[0m\u001b[1;33m,\u001b[0m \u001b[1;33m**\u001b[0m\u001b[0mkwargs\u001b[0m\u001b[1;33m)\u001b[0m\u001b[1;33m\u001b[0m\u001b[1;33m\u001b[0m\u001b[0m\n\u001b[0m\u001b[0;32m     42\u001b[0m         \u001b[1;32mfinally\u001b[0m\u001b[1;33m:\u001b[0m\u001b[1;33m\u001b[0m\u001b[1;33m\u001b[0m\u001b[0m\n\u001b[0;32m     43\u001b[0m             \u001b[1;32mif\u001b[0m \u001b[0martist\u001b[0m\u001b[1;33m.\u001b[0m\u001b[0mget_agg_filter\u001b[0m\u001b[1;33m(\u001b[0m\u001b[1;33m)\u001b[0m \u001b[1;32mis\u001b[0m \u001b[1;32mnot\u001b[0m \u001b[1;32mNone\u001b[0m\u001b[1;33m:\u001b[0m\u001b[1;33m\u001b[0m\u001b[1;33m\u001b[0m\u001b[0m\n",

      "\u001b[1;32m~\\Anaconda3\\lib\\site-packages\\matplotlib\\table.py\u001b[0m in \u001b[0;36mdraw\u001b[1;34m(self, renderer)\u001b[0m\n\u001b[0;32m    401\u001b[0m             \u001b[1;32mreturn\u001b[0m\u001b[1;33m\u001b[0m\u001b[1;33m\u001b[0m\u001b[0m\n\u001b[0;32m    402\u001b[0m         \u001b[0mrenderer\u001b[0m\u001b[1;33m.\u001b[0m\u001b[0mopen_group\u001b[0m\u001b[1;33m(\u001b[0m\u001b[1;34m'table'\u001b[0m\u001b[1;33m,\u001b[0m \u001b[0mgid\u001b[0m\u001b[1;33m=\u001b[0m\u001b[0mself\u001b[0m\u001b[1;33m.\u001b[0m\u001b[0mget_gid\u001b[0m\u001b[1;33m(\u001b[0m\u001b[1;33m)\u001b[0m\u001b[1;33m)\u001b[0m\u001b[1;33m\u001b[0m\u001b[1;33m\u001b[0m\u001b[0m\n\u001b[1;32m--> 403\u001b[1;33m         \u001b[0mself\u001b[0m\u001b[1;33m.\u001b[0m\u001b[0m_update_positions\u001b[0m\u001b[1;33m(\u001b[0m\u001b[0mrenderer\u001b[0m\u001b[1;33m)\u001b[0m\u001b[1;33m\u001b[0m\u001b[1;33m\u001b[0m\u001b[0m\n\u001b[0m\u001b[0;32m    404\u001b[0m \u001b[1;33m\u001b[0m\u001b[0m\n\u001b[0;32m    405\u001b[0m         \u001b[1;32mfor\u001b[0m \u001b[0mkey\u001b[0m \u001b[1;32min\u001b[0m \u001b[0msorted\u001b[0m\u001b[1;33m(\u001b[0m\u001b[0mself\u001b[0m\u001b[1;33m.\u001b[0m\u001b[0m_cells\u001b[0m\u001b[1;33m)\u001b[0m\u001b[1;33m:\u001b[0m\u001b[1;33m\u001b[0m\u001b[1;33m\u001b[0m\u001b[0m\n",

      "\u001b[1;32m~\\Anaconda3\\lib\\site-packages\\matplotlib\\table.py\u001b[0m in \u001b[0;36m_update_positions\u001b[1;34m(self, renderer)\u001b[0m\n\u001b[0;32m    575\u001b[0m         \u001b[1;31m# Do any auto width setting\u001b[0m\u001b[1;33m\u001b[0m\u001b[1;33m\u001b[0m\u001b[1;33m\u001b[0m\u001b[0m\n\u001b[0;32m    576\u001b[0m         \u001b[1;32mfor\u001b[0m \u001b[0mcol\u001b[0m \u001b[1;32min\u001b[0m \u001b[0mself\u001b[0m\u001b[1;33m.\u001b[0m\u001b[0m_autoColumns\u001b[0m\u001b[1;33m:\u001b[0m\u001b[1;33m\u001b[0m\u001b[1;33m\u001b[0m\u001b[0m\n\u001b[1;32m--> 577\u001b[1;33m             \u001b[0mself\u001b[0m\u001b[1;33m.\u001b[0m\u001b[0m_auto_set_column_width\u001b[0m\u001b[1;33m(\u001b[0m\u001b[0mcol\u001b[0m\u001b[1;33m,\u001b[0m \u001b[0mrenderer\u001b[0m\u001b[1;33m)\u001b[0m\u001b[1;33m\u001b[0m\u001b[1;33m\u001b[0m\u001b[0m\n\u001b[0m\u001b[0;32m    578\u001b[0m \u001b[1;33m\u001b[0m\u001b[0m\n\u001b[0;32m    579\u001b[0m         \u001b[1;32mif\u001b[0m \u001b[0mself\u001b[0m\u001b[1;33m.\u001b[0m\u001b[0m_autoFontsize\u001b[0m\u001b[1;33m:\u001b[0m\u001b[1;33m\u001b[0m\u001b[1;33m\u001b[0m\u001b[0m\n",

      "\u001b[1;32m~\\Anaconda3\\lib\\site-packages\\matplotlib\\table.py\u001b[0m in \u001b[0;36m_auto_set_column_width\u001b[1;34m(self, col, renderer)\u001b[0m\n\u001b[0;32m    503\u001b[0m         \u001b[1;34m\"\"\"Automatically set width for column.\"\"\"\u001b[0m\u001b[1;33m\u001b[0m\u001b[1;33m\u001b[0m\u001b[0m\n\u001b[0;32m    504\u001b[0m         \u001b[0mcells\u001b[0m \u001b[1;33m=\u001b[0m \u001b[1;33m[\u001b[0m\u001b[0mcell\u001b[0m \u001b[1;32mfor\u001b[0m \u001b[0mkey\u001b[0m\u001b[1;33m,\u001b[0m \u001b[0mcell\u001b[0m \u001b[1;32min\u001b[0m \u001b[0mself\u001b[0m\u001b[1;33m.\u001b[0m\u001b[0m_cells\u001b[0m\u001b[1;33m.\u001b[0m\u001b[0mitems\u001b[0m\u001b[1;33m(\u001b[0m\u001b[1;33m)\u001b[0m \u001b[1;32mif\u001b[0m \u001b[0mkey\u001b[0m\u001b[1;33m[\u001b[0m\u001b[1;36m1\u001b[0m\u001b[1;33m]\u001b[0m \u001b[1;33m==\u001b[0m \u001b[0mcol\u001b[0m\u001b[1;33m]\u001b[0m\u001b[1;33m\u001b[0m\u001b[1;33m\u001b[0m\u001b[0m\n\u001b[1;32m--> 505\u001b[1;33m         max_width = max((cell.get_required_width(renderer) for cell in cells),\n\u001b[0m\u001b[0;32m    506\u001b[0m                         default=0)\n\u001b[0;32m    507\u001b[0m         \u001b[1;32mfor\u001b[0m \u001b[0mcell\u001b[0m \u001b[1;32min\u001b[0m \u001b[0mcells\u001b[0m\u001b[1;33m:\u001b[0m\u001b[1;33m\u001b[0m\u001b[1;33m\u001b[0m\u001b[0m\n",

      "\u001b[1;32m~\\Anaconda3\\lib\\site-packages\\matplotlib\\table.py\u001b[0m in \u001b[0;36m<genexpr>\u001b[1;34m(.0)\u001b[0m\n\u001b[0;32m    503\u001b[0m         \u001b[1;34m\"\"\"Automatically set width for column.\"\"\"\u001b[0m\u001b[1;33m\u001b[0m\u001b[1;33m\u001b[0m\u001b[0m\n\u001b[0;32m    504\u001b[0m         \u001b[0mcells\u001b[0m \u001b[1;33m=\u001b[0m \u001b[1;33m[\u001b[0m\u001b[0mcell\u001b[0m \u001b[1;32mfor\u001b[0m \u001b[0mkey\u001b[0m\u001b[1;33m,\u001b[0m \u001b[0mcell\u001b[0m \u001b[1;32min\u001b[0m \u001b[0mself\u001b[0m\u001b[1;33m.\u001b[0m\u001b[0m_cells\u001b[0m\u001b[1;33m.\u001b[0m\u001b[0mitems\u001b[0m\u001b[1;33m(\u001b[0m\u001b[1;33m)\u001b[0m \u001b[1;32mif\u001b[0m \u001b[0mkey\u001b[0m\u001b[1;33m[\u001b[0m\u001b[1;36m1\u001b[0m\u001b[1;33m]\u001b[0m \u001b[1;33m==\u001b[0m \u001b[0mcol\u001b[0m\u001b[1;33m]\u001b[0m\u001b[1;33m\u001b[0m\u001b[1;33m\u001b[0m\u001b[0m\n\u001b[1;32m--> 505\u001b[1;33m         max_width = max((cell.get_required_width(renderer) for cell in cells),\n\u001b[0m\u001b[0;32m    506\u001b[0m                         default=0)\n\u001b[0;32m    507\u001b[0m         \u001b[1;32mfor\u001b[0m \u001b[0mcell\u001b[0m \u001b[1;32min\u001b[0m \u001b[0mcells\u001b[0m\u001b[1;33m:\u001b[0m\u001b[1;33m\u001b[0m\u001b[1;33m\u001b[0m\u001b[0m\n",

      "\u001b[1;32m~\\Anaconda3\\lib\\site-packages\\matplotlib\\table.py\u001b[0m in \u001b[0;36mget_required_width\u001b[1;34m(self, renderer)\u001b[0m\n\u001b[0;32m    168\u001b[0m     \u001b[1;32mdef\u001b[0m \u001b[0mget_required_width\u001b[0m\u001b[1;33m(\u001b[0m\u001b[0mself\u001b[0m\u001b[1;33m,\u001b[0m \u001b[0mrenderer\u001b[0m\u001b[1;33m)\u001b[0m\u001b[1;33m:\u001b[0m\u001b[1;33m\u001b[0m\u001b[1;33m\u001b[0m\u001b[0m\n\u001b[0;32m    169\u001b[0m         \u001b[1;34m\"\"\"Return the minimal required width for the cell.\"\"\"\u001b[0m\u001b[1;33m\u001b[0m\u001b[1;33m\u001b[0m\u001b[0m\n\u001b[1;32m--> 170\u001b[1;33m         \u001b[0ml\u001b[0m\u001b[1;33m,\u001b[0m \u001b[0mb\u001b[0m\u001b[1;33m,\u001b[0m \u001b[0mw\u001b[0m\u001b[1;33m,\u001b[0m \u001b[0mh\u001b[0m \u001b[1;33m=\u001b[0m \u001b[0mself\u001b[0m\u001b[1;33m.\u001b[0m\u001b[0mget_text_bounds\u001b[0m\u001b[1;33m(\u001b[0m\u001b[0mrenderer\u001b[0m\u001b[1;33m)\u001b[0m\u001b[1;33m\u001b[0m\u001b[1;33m\u001b[0m\u001b[0m\n\u001b[0m\u001b[0;32m    171\u001b[0m         \u001b[1;32mreturn\u001b[0m \u001b[0mw\u001b[0m \u001b[1;33m*\u001b[0m \u001b[1;33m(\u001b[0m\u001b[1;36m1.0\u001b[0m \u001b[1;33m+\u001b[0m \u001b[1;33m(\u001b[0m\u001b[1;36m2.0\u001b[0m \u001b[1;33m*\u001b[0m \u001b[0mself\u001b[0m\u001b[1;33m.\u001b[0m\u001b[0mPAD\u001b[0m\u001b[1;33m)\u001b[0m\u001b[1;33m)\u001b[0m\u001b[1;33m\u001b[0m\u001b[1;33m\u001b[0m\u001b[0m\n\u001b[0;32m    172\u001b[0m \u001b[1;33m\u001b[0m\u001b[0m\n",

      "\u001b[1;32m~\\Anaconda3\\lib\\site-packages\\matplotlib\\table.py\u001b[0m in \u001b[0;36mget_text_bounds\u001b[1;34m(self, renderer)\u001b[0m\n\u001b[0;32m    162\u001b[0m         \u001b[0mReturn\u001b[0m \u001b[0mthe\u001b[0m \u001b[0mtext\u001b[0m \u001b[0mbounds\u001b[0m \u001b[1;32mas\u001b[0m \u001b[1;33m*\u001b[0m\u001b[1;33m(\u001b[0m\u001b[0mx\u001b[0m\u001b[1;33m,\u001b[0m \u001b[0my\u001b[0m\u001b[1;33m,\u001b[0m \u001b[0mwidth\u001b[0m\u001b[1;33m,\u001b[0m \u001b[0mheight\u001b[0m\u001b[1;33m)\u001b[0m\u001b[1;33m*\u001b[0m \u001b[1;32min\u001b[0m \u001b[0mtable\u001b[0m \u001b[0mcoordinates\u001b[0m\u001b[1;33m.\u001b[0m\u001b[1;33m\u001b[0m\u001b[1;33m\u001b[0m\u001b[0m\n\u001b[0;32m    163\u001b[0m         \"\"\"\n\u001b[1;32m--> 164\u001b[1;33m         return (self._text.get_window_extent(renderer)\n\u001b[0m\u001b[0;32m    165\u001b[0m                 \u001b[1;33m.\u001b[0m\u001b[0mtransformed\u001b[0m\u001b[1;33m(\u001b[0m\u001b[0mself\u001b[0m\u001b[1;33m.\u001b[0m\u001b[0mget_data_transform\u001b[0m\u001b[1;33m(\u001b[0m\u001b[1;33m)\u001b[0m\u001b[1;33m.\u001b[0m\u001b[0minverted\u001b[0m\u001b[1;33m(\u001b[0m\u001b[1;33m)\u001b[0m\u001b[1;33m)\u001b[0m\u001b[1;33m\u001b[0m\u001b[1;33m\u001b[0m\u001b[0m\n\u001b[0;32m    166\u001b[0m                 .bounds)\n",

      "\u001b[1;32m~\\Anaconda3\\lib\\site-packages\\matplotlib\\text.py\u001b[0m in \u001b[0;36mget_window_extent\u001b[1;34m(self, renderer, dpi)\u001b[0m\n\u001b[0;32m    898\u001b[0m \u001b[1;33m\u001b[0m\u001b[0m\n\u001b[0;32m    899\u001b[0m         \u001b[1;32mwith\u001b[0m \u001b[0mcbook\u001b[0m\u001b[1;33m.\u001b[0m\u001b[0m_setattr_cm\u001b[0m\u001b[1;33m(\u001b[0m\u001b[0mself\u001b[0m\u001b[1;33m.\u001b[0m\u001b[0mfigure\u001b[0m\u001b[1;33m,\u001b[0m \u001b[0mdpi\u001b[0m\u001b[1;33m=\u001b[0m\u001b[0mdpi\u001b[0m\u001b[1;33m)\u001b[0m\u001b[1;33m:\u001b[0m\u001b[1;33m\u001b[0m\u001b[1;33m\u001b[0m\u001b[0m\n\u001b[1;32m--> 900\u001b[1;33m             \u001b[0mbbox\u001b[0m\u001b[1;33m,\u001b[0m \u001b[0minfo\u001b[0m\u001b[1;33m,\u001b[0m \u001b[0mdescent\u001b[0m \u001b[1;33m=\u001b[0m \u001b[0mself\u001b[0m\u001b[1;33m.\u001b[0m\u001b[0m_get_layout\u001b[0m\u001b[1;33m(\u001b[0m\u001b[0mself\u001b[0m\u001b[1;33m.\u001b[0m\u001b[0m_renderer\u001b[0m\u001b[1;33m)\u001b[0m\u001b[1;33m\u001b[0m\u001b[1;33m\u001b[0m\u001b[0m\n\u001b[0m\u001b[0;32m    901\u001b[0m             \u001b[0mx\u001b[0m\u001b[1;33m,\u001b[0m \u001b[0my\u001b[0m \u001b[1;33m=\u001b[0m \u001b[0mself\u001b[0m\u001b[1;33m.\u001b[0m\u001b[0mget_unitless_position\u001b[0m\u001b[1;33m(\u001b[0m\u001b[1;33m)\u001b[0m\u001b[1;33m\u001b[0m\u001b[1;33m\u001b[0m\u001b[0m\n\u001b[0;32m    902\u001b[0m             \u001b[0mx\u001b[0m\u001b[1;33m,\u001b[0m \u001b[0my\u001b[0m \u001b[1;33m=\u001b[0m \u001b[0mself\u001b[0m\u001b[1;33m.\u001b[0m\u001b[0mget_transform\u001b[0m\u001b[1;33m(\u001b[0m\u001b[1;33m)\u001b[0m\u001b[1;33m.\u001b[0m\u001b[0mtransform\u001b[0m\u001b[1;33m(\u001b[0m\u001b[1;33m(\u001b[0m\u001b[0mx\u001b[0m\u001b[1;33m,\u001b[0m \u001b[0my\u001b[0m\u001b[1;33m)\u001b[0m\u001b[1;33m)\u001b[0m\u001b[1;33m\u001b[0m\u001b[1;33m\u001b[0m\u001b[0m\n",

      "\u001b[1;32m~\\Anaconda3\\lib\\site-packages\\matplotlib\\text.py\u001b[0m in \u001b[0;36m_get_layout\u001b[1;34m(self, renderer)\u001b[0m\n\u001b[0;32m    291\u001b[0m             \u001b[0mclean_line\u001b[0m\u001b[1;33m,\u001b[0m \u001b[0mismath\u001b[0m \u001b[1;33m=\u001b[0m \u001b[0mself\u001b[0m\u001b[1;33m.\u001b[0m\u001b[0m_preprocess_math\u001b[0m\u001b[1;33m(\u001b[0m\u001b[0mline\u001b[0m\u001b[1;33m)\u001b[0m\u001b[1;33m\u001b[0m\u001b[1;33m\u001b[0m\u001b[0m\n\u001b[0;32m    292\u001b[0m             \u001b[1;32mif\u001b[0m \u001b[0mclean_line\u001b[0m\u001b[1;33m:\u001b[0m\u001b[1;33m\u001b[0m\u001b[1;33m\u001b[0m\u001b[0m\n\u001b[1;32m--> 293\u001b[1;33m                 w, h, d = renderer.get_text_width_height_descent(\n\u001b[0m\u001b[0;32m    294\u001b[0m                     clean_line, self._fontproperties, ismath=ismath)\n\u001b[0;32m    295\u001b[0m             \u001b[1;32melse\u001b[0m\u001b[1;33m:\u001b[0m\u001b[1;33m\u001b[0m\u001b[1;33m\u001b[0m\u001b[0m\n",

      "\u001b[1;32m~\\Anaconda3\\lib\\site-packages\\matplotlib\\backends\\backend_agg.py\u001b[0m in \u001b[0;36mget_text_width_height_descent\u001b[1;34m(self, s, prop, ismath)\u001b[0m\n\u001b[0;32m    236\u001b[0m         \u001b[0mflags\u001b[0m \u001b[1;33m=\u001b[0m \u001b[0mget_hinting_flag\u001b[0m\u001b[1;33m(\u001b[0m\u001b[1;33m)\u001b[0m\u001b[1;33m\u001b[0m\u001b[1;33m\u001b[0m\u001b[0m\n\u001b[0;32m    237\u001b[0m         \u001b[0mfont\u001b[0m \u001b[1;33m=\u001b[0m \u001b[0mself\u001b[0m\u001b[1;33m.\u001b[0m\u001b[0m_get_agg_font\u001b[0m\u001b[1;33m(\u001b[0m\u001b[0mprop\u001b[0m\u001b[1;33m)\u001b[0m\u001b[1;33m\u001b[0m\u001b[1;33m\u001b[0m\u001b[0m\n\u001b[1;32m--> 238\u001b[1;33m         \u001b[0mfont\u001b[0m\u001b[1;33m.\u001b[0m\u001b[0mset_text\u001b[0m\u001b[1;33m(\u001b[0m\u001b[0ms\u001b[0m\u001b[1;33m,\u001b[0m \u001b[1;36m0.0\u001b[0m\u001b[1;33m,\u001b[0m \u001b[0mflags\u001b[0m\u001b[1;33m=\u001b[0m\u001b[0mflags\u001b[0m\u001b[1;33m)\u001b[0m\u001b[1;33m\u001b[0m\u001b[1;33m\u001b[0m\u001b[0m\n\u001b[0m\u001b[0;32m    239\u001b[0m         \u001b[0mw\u001b[0m\u001b[1;33m,\u001b[0m \u001b[0mh\u001b[0m \u001b[1;33m=\u001b[0m \u001b[0mfont\u001b[0m\u001b[1;33m.\u001b[0m\u001b[0mget_width_height\u001b[0m\u001b[1;33m(\u001b[0m\u001b[1;33m)\u001b[0m  \u001b[1;31m# width and height of unrotated string\u001b[0m\u001b[1;33m\u001b[0m\u001b[1;33m\u001b[0m\u001b[0m\n\u001b[0;32m    240\u001b[0m         \u001b[0md\u001b[0m \u001b[1;33m=\u001b[0m \u001b[0mfont\u001b[0m\u001b[1;33m.\u001b[0m\u001b[0mget_descent\u001b[0m\u001b[1;33m(\u001b[0m\u001b[1;33m)\u001b[0m\u001b[1;33m\u001b[0m\u001b[1;33m\u001b[0m\u001b[0m\n",

      "\u001b[1;31mRuntimeWarning\u001b[0m: Glyph 9 missing from current font."

     ]

    },

    {

     "data": {

      "image/png": "[encoded data removed]",

      "text/plain": [

       "<Figure size 576x396 with 1 Axes>"

      ]

     },

     "metadata": {},

     "output_type": "display_data"

    },

    {

     "ename": "RuntimeWarning",

     "evalue": "Glyph 9 missing from current font.",

     "output_type": "error",

     "traceback": [

      "\u001b[1;31m---------------------------------------------------------------------------\u001b[0m",

      "\u001b[1;31mRuntimeWarning\u001b[0m                            Traceback (most recent call last)",

      "\u001b[1;32m~\\Anaconda3\\lib\\site-packages\\IPython\\core\\formatters.py\u001b[0m in \u001b[0;36m__call__\u001b[1;34m(self, obj)\u001b[0m\n\u001b[0;32m    339\u001b[0m                 \u001b[1;32mpass\u001b[0m\u001b[1;33m\u001b[0m\u001b[1;33m\u001b[0m\u001b[0m\n\u001b[0;32m    340\u001b[0m             \u001b[1;32melse\u001b[0m\u001b[1;33m:\u001b[0m\u001b[1;33m\u001b[0m\u001b[1;33m\u001b[0m\u001b[0m\n\u001b[1;32m--> 341\u001b[1;33m                 \u001b[1;32mreturn\u001b[0m \u001b[0mprinter\u001b[0m\u001b[1;33m(\u001b[0m\u001b[0mobj\u001b[0m\u001b[1;33m)\u001b[0m\u001b[1;33m\u001b[0m\u001b[1;33m\u001b[0m\u001b[0m\n\u001b[0m\u001b[0;32m    342\u001b[0m             \u001b[1;31m# Finally look for special method names\u001b[0m\u001b[1;33m\u001b[0m\u001b[1;33m\u001b[0m\u001b[1;33m\u001b[0m\u001b[0m\n\u001b[0;32m    343\u001b[0m             \u001b[0mmethod\u001b[0m \u001b[1;33m=\u001b[0m \u001b[0mget_real_method\u001b[0m\u001b[1;33m(\u001b[0m\u001b[0mobj\u001b[0m\u001b[1;33m,\u001b[0m \u001b[0mself\u001b[0m\u001b[1;33m.\u001b[0m\u001b[0mprint_method\u001b[0m\u001b[1;33m)\u001b[0m\u001b[1;33m\u001b[0m\u001b[1;33m\u001b[0m\u001b[0m\n",

      "\u001b[1;32m~\\Anaconda3\\lib\\site-packages\\IPython\\core\\pylabtools.py\u001b[0m in \u001b[0;36m<lambda>\u001b[1;34m(fig)\u001b[0m\n\u001b[0;32m    246\u001b[0m \u001b[1;33m\u001b[0m\u001b[0m\n\u001b[0;32m    247\u001b[0m     \u001b[1;32mif\u001b[0m \u001b[1;34m'png'\u001b[0m \u001b[1;32min\u001b[0m \u001b[0mformats\u001b[0m\u001b[1;33m:\u001b[0m\u001b[1;33m\u001b[0m\u001b[1;33m\u001b[0m\u001b[0m\n\u001b[1;32m--> 248\u001b[1;33m         \u001b[0mpng_formatter\u001b[0m\u001b[1;33m.\u001b[0m\u001b[0mfor_type\u001b[0m\u001b[1;33m(\u001b[0m\u001b[0mFigure\u001b[0m\u001b[1;33m,\u001b[0m \u001b[1;32mlambda\u001b[0m \u001b[0mfig\u001b[0m\u001b[1;33m:\u001b[0m \u001b[0mprint_figure\u001b[0m\u001b[1;33m(\u001b[0m\u001b[0mfig\u001b[0m\u001b[1;33m,\u001b[0m \u001b[1;34m'png'\u001b[0m\u001b[1;33m,\u001b[0m \u001b[1;33m**\u001b[0m\u001b[0mkwargs\u001b[0m\u001b[1;33m)\u001b[0m\u001b[1;33m)\u001b[0m\u001b[1;33m\u001b[0m\u001b[1;33m\u001b[0m\u001b[0m\n\u001b[0m\u001b[0;32m    249\u001b[0m     \u001b[1;32mif\u001b[0m \u001b[1;34m'retina'\u001b[0m \u001b[1;32min\u001b[0m \u001b[0mformats\u001b[0m \u001b[1;32mor\u001b[0m \u001b[1;34m'png2x'\u001b[0m \u001b[1;32min\u001b[0m \u001b[0mformats\u001b[0m\u001b[1;33m:\u001b[0m\u001b[1;33m\u001b[0m\u001b[1;33m\u001b[0m\u001b[0m\n\u001b[0;32m    250\u001b[0m         \u001b[0mpng_formatter\u001b[0m\u001b[1;33m.\u001b[0m\u001b[0mfor_type\u001b[0m\u001b[1;33m(\u001b[0m\u001b[0mFigure\u001b[0m\u001b[1;33m,\u001b[0m \u001b[1;32mlambda\u001b[0m \u001b[0mfig\u001b[0m\u001b[1;33m:\u001b[0m \u001b[0mretina_figure\u001b[0m\u001b[1;33m(\u001b[0m\u001b[0mfig\u001b[0m\u001b[1;33m,\u001b[0m \u001b[1;33m**\u001b[0m\u001b[0mkwargs\u001b[0m\u001b[1;33m)\u001b[0m\u001b[1;33m)\u001b[0m\u001b[1;33m\u001b[0m\u001b[1;33m\u001b[0m\u001b[0m\n",

      "\u001b[1;32m~\\Anaconda3\\lib\\site-packages\\IPython\\core\\pylabtools.py\u001b[0m in \u001b[0;36mprint_figure\u001b[1;34m(fig, fmt, bbox_inches, **kwargs)\u001b[0m\n\u001b[0;32m    130\u001b[0m         \u001b[0mFigureCanvasBase\u001b[0m\u001b[1;33m(\u001b[0m\u001b[0mfig\u001b[0m\u001b[1;33m)\u001b[0m\u001b[1;33m\u001b[0m\u001b[1;33m\u001b[0m\u001b[0m\n\u001b[0;32m    131\u001b[0m \u001b[1;33m\u001b[0m\u001b[0m\n\u001b[1;32m--> 132\u001b[1;33m     \u001b[0mfig\u001b[0m\u001b[1;33m.\u001b[0m\u001b[0mcanvas\u001b[0m\u001b[1;33m.\u001b[0m\u001b[0mprint_figure\u001b[0m\u001b[1;33m(\u001b[0m\u001b[0mbytes_io\u001b[0m\u001b[1;33m,\u001b[0m \u001b[1;33m**\u001b[0m\u001b[0mkw\u001b[0m\u001b[1;33m)\u001b[0m\u001b[1;33m\u001b[0m\u001b[1;33m\u001b[0m\u001b[0m\n\u001b[0m\u001b[0;32m    133\u001b[0m     \u001b[0mdata\u001b[0m \u001b[1;33m=\u001b[0m \u001b[0mbytes_io\u001b[0m\u001b[1;33m.\u001b[0m\u001b[0mgetvalue\u001b[0m\u001b[1;33m(\u001b[0m\u001b[1;33m)\u001b[0m\u001b[1;33m\u001b[0m\u001b[1;33m\u001b[0m\u001b[0m\n\u001b[0;32m    134\u001b[0m     \u001b[1;32mif\u001b[0m \u001b[0mfmt\u001b[0m \u001b[1;33m==\u001b[0m \u001b[1;34m'svg'\u001b[0m\u001b[1;33m:\u001b[0m\u001b[1;33m\u001b[0m\u001b[1;33m\u001b[0m\u001b[0m\n",

      "\u001b[1;32m~\\Anaconda3\\lib\\site-packages\\matplotlib\\backend_bases.py\u001b[0m in \u001b[0;36mprint_figure\u001b[1;34m(self, filename, dpi, facecolor, edgecolor, orientation, format, bbox_inches, pad_inches, bbox_extra_artists, backend, **kwargs)\u001b[0m\n\u001b[0;32m   2191\u001b[0m                            else suppress())\n\u001b[0;32m   2192\u001b[0m                     \u001b[1;32mwith\u001b[0m \u001b[0mctx\u001b[0m\u001b[1;33m:\u001b[0m\u001b[1;33m\u001b[0m\u001b[1;33m\u001b[0m\u001b[0m\n\u001b[1;32m-> 2193\u001b[1;33m                         \u001b[0mself\u001b[0m\u001b[1;33m.\u001b[0m\u001b[0mfigure\u001b[0m\u001b[1;33m.\u001b[0m\u001b[0mdraw\u001b[0m\u001b[1;33m(\u001b[0m\u001b[0mrenderer\u001b[0m\u001b[1;33m)\u001b[0m\u001b[1;33m\u001b[0m\u001b[1;33m\u001b[0m\u001b[0m\n\u001b[0m\u001b[0;32m   2194\u001b[0m \u001b[1;33m\u001b[0m\u001b[0m\n\u001b[0;32m   2195\u001b[0m                     bbox_inches = self.figure.get_tightbbox(\n",

      "\u001b[1;32m~\\Anaconda3\\lib\\site-packages\\matplotlib\\artist.py\u001b[0m in \u001b[0;36mdraw_wrapper\u001b[1;34m(artist, renderer, *args, **kwargs)\u001b[0m\n\u001b[0;32m     39\u001b[0m                 \u001b[0mrenderer\u001b[0m\u001b[1;33m.\u001b[0m\u001b[0mstart_filter\u001b[0m\u001b[1;33m(\u001b[0m\u001b[1;33m)\u001b[0m\u001b[1;33m\u001b[0m\u001b[1;33m\u001b[0m\u001b[0m\n\u001b[0;32m     40\u001b[0m \u001b[1;33m\u001b[0m\u001b[0m\n\u001b[1;32m---> 41\u001b[1;33m             \u001b[1;32mreturn\u001b[0m \u001b[0mdraw\u001b[0m\u001b[1;33m(\u001b[0m\u001b[0martist\u001b[0m\u001b[1;33m,\u001b[0m \u001b[0mrenderer\u001b[0m\u001b[1;33m,\u001b[0m \u001b[1;33m*\u001b[0m\u001b[0margs\u001b[0m\u001b[1;33m,\u001b[0m \u001b[1;33m**\u001b[0m\u001b[0mkwargs\u001b[0m\u001b[1;33m)\u001b[0m\u001b[1;33m\u001b[0m\u001b[1;33m\u001b[0m\u001b[0m\n\u001b[0m\u001b[0;32m     42\u001b[0m         \u001b[1;32mfinally\u001b[0m\u001b[1;33m:\u001b[0m\u001b[1;33m\u001b[0m\u001b[1;33m\u001b[0m\u001b[0m\n\u001b[0;32m     43\u001b[0m             \u001b[1;32mif\u001b[0m \u001b[0martist\u001b[0m\u001b[1;33m.\u001b[0m\u001b[0mget_agg_filter\u001b[0m\u001b[1;33m(\u001b[0m\u001b[1;33m)\u001b[0m \u001b[1;32mis\u001b[0m \u001b[1;32mnot\u001b[0m \u001b[1;32mNone\u001b[0m\u001b[1;33m:\u001b[0m\u001b[1;33m\u001b[0m\u001b[1;33m\u001b[0m\u001b[0m\n",

      "\u001b[1;32m~\\Anaconda3\\lib\\site-packages\\matplotlib\\figure.py\u001b[0m in \u001b[0;36mdraw\u001b[1;34m(self, renderer)\u001b[0m\n\u001b[0;32m   1861\u001b[0m \u001b[1;33m\u001b[0m\u001b[0m\n\u001b[0;32m   1862\u001b[0m             \u001b[0mself\u001b[0m\u001b[1;33m.\u001b[0m\u001b[0mpatch\u001b[0m\u001b[1;33m.\u001b[0m\u001b[0mdraw\u001b[0m\u001b[1;33m(\u001b[0m\u001b[0mrenderer\u001b[0m\u001b[1;33m)\u001b[0m\u001b[1;33m\u001b[0m\u001b[1;33m\u001b[0m\u001b[0m\n\u001b[1;32m-> 1863\u001b[1;33m             mimage._draw_list_compositing_images(\n\u001b[0m\u001b[0;32m   1864\u001b[0m                 renderer, self, artists, self.suppressComposite)\n\u001b[0;32m   1865\u001b[0m \u001b[1;33m\u001b[0m\u001b[0m\n",

      "\u001b[1;32m~\\Anaconda3\\lib\\site-packages\\matplotlib\\image.py\u001b[0m in \u001b[0;36m_draw_list_compositing_images\u001b[1;34m(renderer, parent, artists, suppress_composite)\u001b[0m\n\u001b[0;32m    129\u001b[0m     \u001b[1;32mif\u001b[0m \u001b[0mnot_composite\u001b[0m \u001b[1;32mor\u001b[0m \u001b[1;32mnot\u001b[0m \u001b[0mhas_images\u001b[0m\u001b[1;33m:\u001b[0m\u001b[1;33m\u001b[0m\u001b[1;33m\u001b[0m\u001b[0m\n\u001b[0;32m    130\u001b[0m         \u001b[1;32mfor\u001b[0m \u001b[0ma\u001b[0m \u001b[1;32min\u001b[0m \u001b[0martists\u001b[0m\u001b[1;33m:\u001b[0m\u001b[1;33m\u001b[0m\u001b[1;33m\u001b[0m\u001b[0m\n\u001b[1;32m--> 131\u001b[1;33m             \u001b[0ma\u001b[0m\u001b[1;33m.\u001b[0m\u001b[0mdraw\u001b[0m\u001b[1;33m(\u001b[0m\u001b[0mrenderer\u001b[0m\u001b[1;33m)\u001b[0m\u001b[1;33m\u001b[0m\u001b[1;33m\u001b[0m\u001b[0m\n\u001b[0m\u001b[0;32m    132\u001b[0m     \u001b[1;32melse\u001b[0m\u001b[1;33m:\u001b[0m\u001b[1;33m\u001b[0m\u001b[1;33m\u001b[0m\u001b[0m\n\u001b[0;32m    133\u001b[0m         \u001b[1;31m# Composite any adjacent images together\u001b[0m\u001b[1;33m\u001b[0m\u001b[1;33m\u001b[0m\u001b[1;33m\u001b[0m\u001b[0m\n",

      "\u001b[1;32m~\\Anaconda3\\lib\\site-packages\\matplotlib\\artist.py\u001b[0m in \u001b[0;36mdraw_wrapper\u001b[1;34m(artist, renderer, *args, **kwargs)\u001b[0m\n\u001b[0;32m     39\u001b[0m                 \u001b[0mrenderer\u001b[0m\u001b[1;33m.\u001b[0m\u001b[0mstart_filter\u001b[0m\u001b[1;33m(\u001b[0m\u001b[1;33m)\u001b[0m\u001b[1;33m\u001b[0m\u001b[1;33m\u001b[0m\u001b[0m\n\u001b[0;32m     40\u001b[0m \u001b[1;33m\u001b[0m\u001b[0m\n\u001b[1;32m---> 41\u001b[1;33m             \u001b[1;32mreturn\u001b[0m \u001b[0mdraw\u001b[0m\u001b[1;33m(\u001b[0m\u001b[0martist\u001b[0m\u001b[1;33m,\u001b[0m \u001b[0mrenderer\u001b[0m\u001b[1;33m,\u001b[0m \u001b[1;33m*\u001b[0m\u001b[0margs\u001b[0m\u001b[1;33m,\u001b[0m \u001b[1;33m**\u001b[0m\u001b[0mkwargs\u001b[0m\u001b[1;33m)\u001b[0m\u001b[1;33m\u001b[0m\u001b[1;33m\u001b[0m\u001b[0m\n\u001b[0m\u001b[0;32m     42\u001b[0m         \u001b[1;32mfinally\u001b[0m\u001b[1;33m:\u001b[0m\u001b[1;33m\u001b[0m\u001b[1;33m\u001b[0m\u001b[0m\n\u001b[0;32m     43\u001b[0m             \u001b[1;32mif\u001b[0m \u001b[0martist\u001b[0m\u001b[1;33m.\u001b[0m\u001b[0mget_agg_filter\u001b[0m\u001b[1;33m(\u001b[0m\u001b[1;33m)\u001b[0m \u001b[1;32mis\u001b[0m \u001b[1;32mnot\u001b[0m \u001b[1;32mNone\u001b[0m\u001b[1;33m:\u001b[0m\u001b[1;33m\u001b[0m\u001b[1;33m\u001b[0m\u001b[0m\n",

      "\u001b[1;32m~\\Anaconda3\\lib\\site-packages\\matplotlib\\cbook\\deprecation.py\u001b[0m in \u001b[0;36mwrapper\u001b[1;34m(*inner_args, **inner_kwargs)\u001b[0m\n\u001b[0;32m    409\u001b[0m                          \u001b[1;32melse\u001b[0m \u001b[0mdeprecation_addendum\u001b[0m\u001b[1;33m,\u001b[0m\u001b[1;33m\u001b[0m\u001b[1;33m\u001b[0m\u001b[0m\n\u001b[0;32m    410\u001b[0m                 **kwargs)\n\u001b[1;32m--> 411\u001b[1;33m         \u001b[1;32mreturn\u001b[0m \u001b[0mfunc\u001b[0m\u001b[1;33m(\u001b[0m\u001b[1;33m*\u001b[0m\u001b[0minner_args\u001b[0m\u001b[1;33m,\u001b[0m \u001b[1;33m**\u001b[0m\u001b[0minner_kwargs\u001b[0m\u001b[1;33m)\u001b[0m\u001b[1;33m\u001b[0m\u001b[1;33m\u001b[0m\u001b[0m\n\u001b[0m\u001b[0;32m    412\u001b[0m \u001b[1;33m\u001b[0m\u001b[0m\n\u001b[0;32m    413\u001b[0m     \u001b[1;32mreturn\u001b[0m \u001b[0mwrapper\u001b[0m\u001b[1;33m\u001b[0m\u001b[1;33m\u001b[0m\u001b[0m\n",

      "\u001b[1;32m~\\Anaconda3\\lib\\site-packages\\matplotlib\\axes\\_base.py\u001b[0m in \u001b[0;36mdraw\u001b[1;34m(self, renderer, inframe)\u001b[0m\n\u001b[0;32m   2745\u001b[0m             \u001b[0mrenderer\u001b[0m\u001b[1;33m.\u001b[0m\u001b[0mstop_rasterizing\u001b[0m\u001b[1;33m(\u001b[0m\u001b[1;33m)\u001b[0m\u001b[1;33m\u001b[0m\u001b[1;33m\u001b[0m\u001b[0m\n\u001b[0;32m   2746\u001b[0m \u001b[1;33m\u001b[0m\u001b[0m\n\u001b[1;32m-> 2747\u001b[1;33m         \u001b[0mmimage\u001b[0m\u001b[1;33m.\u001b[0m\u001b[0m_draw_list_compositing_images\u001b[0m\u001b[1;33m(\u001b[0m\u001b[0mrenderer\u001b[0m\u001b[1;33m,\u001b[0m \u001b[0mself\u001b[0m\u001b[1;33m,\u001b[0m \u001b[0martists\u001b[0m\u001b[1;33m)\u001b[0m\u001b[1;33m\u001b[0m\u001b[1;33m\u001b[0m\u001b[0m\n\u001b[0m\u001b[0;32m   2748\u001b[0m \u001b[1;33m\u001b[0m\u001b[0m\n\u001b[0;32m   2749\u001b[0m         \u001b[0mrenderer\u001b[0m\u001b[1;33m.\u001b[0m\u001b[0mclose_group\u001b[0m\u001b[1;33m(\u001b[0m\u001b[1;34m'axes'\u001b[0m\u001b[1;33m)\u001b[0m\u001b[1;33m\u001b[0m\u001b[1;33m\u001b[0m\u001b[0m\n",

      "\u001b[1;32m~\\Anaconda3\\lib\\site-packages\\matplotlib\\image.py\u001b[0m in \u001b[0;36m_draw_list_compositing_images\u001b[1;34m(renderer, parent, artists, suppress_composite)\u001b[0m\n\u001b[0;32m    129\u001b[0m     \u001b[1;32mif\u001b[0m \u001b[0mnot_composite\u001b[0m \u001b[1;32mor\u001b[0m \u001b[1;32mnot\u001b[0m \u001b[0mhas_images\u001b[0m\u001b[1;33m:\u001b[0m\u001b[1;33m\u001b[0m\u001b[1;33m\u001b[0m\u001b[0m\n\u001b[0;32m    130\u001b[0m         \u001b[1;32mfor\u001b[0m \u001b[0ma\u001b[0m \u001b[1;32min\u001b[0m \u001b[0martists\u001b[0m\u001b[1;33m:\u001b[0m\u001b[1;33m\u001b[0m\u001b[1;33m\u001b[0m\u001b[0m\n\u001b[1;32m--> 131\u001b[1;33m             \u001b[0ma\u001b[0m\u001b[1;33m.\u001b[0m\u001b[0mdraw\u001b[0m\u001b[1;33m(\u001b[0m\u001b[0mrenderer\u001b[0m\u001b[1;33m)\u001b[0m\u001b[1;33m\u001b[0m\u001b[1;33m\u001b[0m\u001b[0m\n\u001b[0m\u001b[0;32m    132\u001b[0m     \u001b[1;32melse\u001b[0m\u001b[1;33m:\u001b[0m\u001b[1;33m\u001b[0m\u001b[1;33m\u001b[0m\u001b[0m\n\u001b[0;32m    133\u001b[0m         \u001b[1;31m# Composite any adjacent images together\u001b[0m\u001b[1;33m\u001b[0m\u001b[1;33m\u001b[0m\u001b[1;33m\u001b[0m\u001b[0m\n",

      "\u001b[1;32m~\\Anaconda3\\lib\\site-packages\\matplotlib\\artist.py\u001b[0m in \u001b[0;36mdraw_wrapper\u001b[1;34m(artist, renderer, *args, **kwargs)\u001b[0m\n\u001b[0;32m     39\u001b[0m                 \u001b[0mrenderer\u001b[0m\u001b[1;33m.\u001b[0m\u001b[0mstart_filter\u001b[0m\u001b[1;33m(\u001b[0m\u001b[1;33m)\u001b[0m\u001b[1;33m\u001b[0m\u001b[1;33m\u001b[0m\u001b[0m\n\u001b[0;32m     40\u001b[0m \u001b[1;33m\u001b[0m\u001b[0m\n\u001b[1;32m---> 41\u001b[1;33m             \u001b[1;32mreturn\u001b[0m \u001b[0mdraw\u001b[0m\u001b[1;33m(\u001b[0m\u001b[0martist\u001b[0m\u001b[1;33m,\u001b[0m \u001b[0mrenderer\u001b[0m\u001b[1;33m,\u001b[0m \u001b[1;33m*\u001b[0m\u001b[0margs\u001b[0m\u001b[1;33m,\u001b[0m \u001b[1;33m**\u001b[0m\u001b[0mkwargs\u001b[0m\u001b[1;33m)\u001b[0m\u001b[1;33m\u001b[0m\u001b[1;33m\u001b[0m\u001b[0m\n\u001b[0m\u001b[0;32m     42\u001b[0m         \u001b[1;32mfinally\u001b[0m\u001b[1;33m:\u001b[0m\u001b[1;33m\u001b[0m\u001b[1;33m\u001b[0m\u001b[0m\n\u001b[0;32m     43\u001b[0m             \u001b[1;32mif\u001b[0m \u001b[0martist\u001b[0m\u001b[1;33m.\u001b[0m\u001b[0mget_agg_filter\u001b[0m\u001b[1;33m(\u001b[0m\u001b[1;33m)\u001b[0m \u001b[1;32mis\u001b[0m \u001b[1;32mnot\u001b[0m \u001b[1;32mNone\u001b[0m\u001b[1;33m:\u001b[0m\u001b[1;33m\u001b[0m\u001b[1;33m\u001b[0m\u001b[0m\n",

      "\u001b[1;32m~\\Anaconda3\\lib\\site-packages\\matplotlib\\table.py\u001b[0m in \u001b[0;36mdraw\u001b[1;34m(self, renderer)\u001b[0m\n\u001b[0;32m    401\u001b[0m             \u001b[1;32mreturn\u001b[0m\u001b[1;33m\u001b[0m\u001b[1;33m\u001b[0m\u001b[0m\n\u001b[0;32m    402\u001b[0m         \u001b[0mrenderer\u001b[0m\u001b[1;33m.\u001b[0m\u001b[0mopen_group\u001b[0m\u001b[1;33m(\u001b[0m\u001b[1;34m'table'\u001b[0m\u001b[1;33m,\u001b[0m \u001b[0mgid\u001b[0m\u001b[1;33m=\u001b[0m\u001b[0mself\u001b[0m\u001b[1;33m.\u001b[0m\u001b[0mget_gid\u001b[0m\u001b[1;33m(\u001b[0m\u001b[1;33m)\u001b[0m\u001b[1;33m)\u001b[0m\u001b[1;33m\u001b[0m\u001b[1;33m\u001b[0m\u001b[0m\n\u001b[1;32m--> 403\u001b[1;33m         \u001b[0mself\u001b[0m\u001b[1;33m.\u001b[0m\u001b[0m_update_positions\u001b[0m\u001b[1;33m(\u001b[0m\u001b[0mrenderer\u001b[0m\u001b[1;33m)\u001b[0m\u001b[1;33m\u001b[0m\u001b[1;33m\u001b[0m\u001b[0m\n\u001b[0m\u001b[0;32m    404\u001b[0m \u001b[1;33m\u001b[0m\u001b[0m\n\u001b[0;32m    405\u001b[0m         \u001b[1;32mfor\u001b[0m \u001b[0mkey\u001b[0m \u001b[1;32min\u001b[0m \u001b[0msorted\u001b[0m\u001b[1;33m(\u001b[0m\u001b[0mself\u001b[0m\u001b[1;33m.\u001b[0m\u001b[0m_cells\u001b[0m\u001b[1;33m)\u001b[0m\u001b[1;33m:\u001b[0m\u001b[1;33m\u001b[0m\u001b[1;33m\u001b[0m\u001b[0m\n",

      "\u001b[1;32m~\\Anaconda3\\lib\\site-packages\\matplotlib\\table.py\u001b[0m in \u001b[0;36m_update_positions\u001b[1;34m(self, renderer)\u001b[0m\n\u001b[0;32m    575\u001b[0m         \u001b[1;31m# Do any auto width setting\u001b[0m\u001b[1;33m\u001b[0m\u001b[1;33m\u001b[0m\u001b[1;33m\u001b[0m\u001b[0m\n\u001b[0;32m    576\u001b[0m         \u001b[1;32mfor\u001b[0m \u001b[0mcol\u001b[0m \u001b[1;32min\u001b[0m \u001b[0mself\u001b[0m\u001b[1;33m.\u001b[0m\u001b[0m_autoColumns\u001b[0m\u001b[1;33m:\u001b[0m\u001b[1;33m\u001b[0m\u001b[1;33m\u001b[0m\u001b[0m\n\u001b[1;32m--> 577\u001b[1;33m             \u001b[0mself\u001b[0m\u001b[1;33m.\u001b[0m\u001b[0m_auto_set_column_width\u001b[0m\u001b[1;33m(\u001b[0m\u001b[0mcol\u001b[0m\u001b[1;33m,\u001b[0m \u001b[0mrenderer\u001b[0m\u001b[1;33m)\u001b[0m\u001b[1;33m\u001b[0m\u001b[1;33m\u001b[0m\u001b[0m\n\u001b[0m\u001b[0;32m    578\u001b[0m \u001b[1;33m\u001b[0m\u001b[0m\n\u001b[0;32m    579\u001b[0m         \u001b[1;32mif\u001b[0m \u001b[0mself\u001b[0m\u001b[1;33m.\u001b[0m\u001b[0m_autoFontsize\u001b[0m\u001b[1;33m:\u001b[0m\u001b[1;33m\u001b[0m\u001b[1;33m\u001b[0m\u001b[0m\n",

      "\u001b[1;32m~\\Anaconda3\\lib\\site-packages\\matplotlib\\table.py\u001b[0m in \u001b[0;36m_auto_set_column_width\u001b[1;34m(self, col, renderer)\u001b[0m\n\u001b[0;32m    503\u001b[0m         \u001b[1;34m\"\"\"Automatically set width for column.\"\"\"\u001b[0m\u001b[1;33m\u001b[0m\u001b[1;33m\u001b[0m\u001b[0m\n\u001b[0;32m    504\u001b[0m         \u001b[0mcells\u001b[0m \u001b[1;33m=\u001b[0m \u001b[1;33m[\u001b[0m\u001b[0mcell\u001b[0m \u001b[1;32mfor\u001b[0m \u001b[0mkey\u001b[0m\u001b[1;33m,\u001b[0m \u001b[0mcell\u001b[0m \u001b[1;32min\u001b[0m \u001b[0mself\u001b[0m\u001b[1;33m.\u001b[0m\u001b[0m_cells\u001b[0m\u001b[1;33m.\u001b[0m\u001b[0mitems\u001b[0m\u001b[1;33m(\u001b[0m\u001b[1;33m)\u001b[0m \u001b[1;32mif\u001b[0m \u001b[0mkey\u001b[0m\u001b[1;33m[\u001b[0m\u001b[1;36m1\u001b[0m\u001b[1;33m]\u001b[0m \u001b[1;33m==\u001b[0m \u001b[0mcol\u001b[0m\u001b[1;33m]\u001b[0m\u001b[1;33m\u001b[0m\u001b[1;33m\u001b[0m\u001b[0m\n\u001b[1;32m--> 505\u001b[1;33m         max_width = max((cell.get_required_width(renderer) for cell in cells),\n\u001b[0m\u001b[0;32m    506\u001b[0m                         default=0)\n\u001b[0;32m    507\u001b[0m         \u001b[1;32mfor\u001b[0m \u001b[0mcell\u001b[0m \u001b[1;32min\u001b[0m \u001b[0mcells\u001b[0m\u001b[1;33m:\u001b[0m\u001b[1;33m\u001b[0m\u001b[1;33m\u001b[0m\u001b[0m\n",

      "\u001b[1;32m~\\Anaconda3\\lib\\site-packages\\matplotlib\\table.py\u001b[0m in \u001b[0;36m<genexpr>\u001b[1;34m(.0)\u001b[0m\n\u001b[0;32m    503\u001b[0m         \u001b[1;34m\"\"\"Automatically set width for column.\"\"\"\u001b[0m\u001b[1;33m\u001b[0m\u001b[1;33m\u001b[0m\u001b[0m\n\u001b[0;32m    504\u001b[0m         \u001b[0mcells\u001b[0m \u001b[1;33m=\u001b[0m \u001b[1;33m[\u001b[0m\u001b[0mcell\u001b[0m \u001b[1;32mfor\u001b[0m \u001b[0mkey\u001b[0m\u001b[1;33m,\u001b[0m \u001b[0mcell\u001b[0m \u001b[1;32min\u001b[0m \u001b[0mself\u001b[0m\u001b[1;33m.\u001b[0m\u001b[0m_cells\u001b[0m\u001b[1;33m.\u001b[0m\u001b[0mitems\u001b[0m\u001b[1;33m(\u001b[0m\u001b[1;33m)\u001b[0m \u001b[1;32mif\u001b[0m \u001b[0mkey\u001b[0m\u001b[1;33m[\u001b[0m\u001b[1;36m1\u001b[0m\u001b[1;33m]\u001b[0m \u001b[1;33m==\u001b[0m \u001b[0mcol\u001b[0m\u001b[1;33m]\u001b[0m\u001b[1;33m\u001b[0m\u001b[1;33m\u001b[0m\u001b[0m\n\u001b[1;32m--> 505\u001b[1;33m         max_width = max((cell.get_required_width(renderer) for cell in cells),\n\u001b[0m\u001b[0;32m    506\u001b[0m                         default=0)\n\u001b[0;32m    507\u001b[0m         \u001b[1;32mfor\u001b[0m \u001b[0mcell\u001b[0m \u001b[1;32min\u001b[0m \u001b[0mcells\u001b[0m\u001b[1;33m:\u001b[0m\u001b[1;33m\u001b[0m\u001b[1;33m\u001b[0m\u001b[0m\n",

      "\u001b[1;32m~\\Anaconda3\\lib\\site-packages\\matplotlib\\table.py\u001b[0m in \u001b[0;36mget_required_width\u001b[1;34m(self, renderer)\u001b[0m\n\u001b[0;32m    168\u001b[0m     \u001b[1;32mdef\u001b[0m \u001b[0mget_required_width\u001b[0m\u001b[1;33m(\u001b[0m\u001b[0mself\u001b[0m\u001b[1;33m,\u001b[0m \u001b[0mrenderer\u001b[0m\u001b[1;33m)\u001b[0m\u001b[1;33m:\u001b[0m\u001b[1;33m\u001b[0m\u001b[1;33m\u001b[0m\u001b[0m\n\u001b[0;32m    169\u001b[0m         \u001b[1;34m\"\"\"Return the minimal required width for the cell.\"\"\"\u001b[0m\u001b[1;33m\u001b[0m\u001b[1;33m\u001b[0m\u001b[0m\n\u001b[1;32m--> 170\u001b[1;33m         \u001b[0ml\u001b[0m\u001b[1;33m,\u001b[0m \u001b[0mb\u001b[0m\u001b[1;33m,\u001b[0m \u001b[0mw\u001b[0m\u001b[1;33m,\u001b[0m \u001b[0mh\u001b[0m \u001b[1;33m=\u001b[0m \u001b[0mself\u001b[0m\u001b[1;33m.\u001b[0m\u001b[0mget_text_bounds\u001b[0m\u001b[1;33m(\u001b[0m\u001b[0mrenderer\u001b[0m\u001b[1;33m)\u001b[0m\u001b[1;33m\u001b[0m\u001b[1;33m\u001b[0m\u001b[0m\n\u001b[0m\u001b[0;32m    171\u001b[0m         \u001b[1;32mreturn\u001b[0m \u001b[0mw\u001b[0m \u001b[1;33m*\u001b[0m \u001b[1;33m(\u001b[0m\u001b[1;36m1.0\u001b[0m \u001b[1;33m+\u001b[0m \u001b[1;33m(\u001b[0m\u001b[1;36m2.0\u001b[0m \u001b[1;33m*\u001b[0m \u001b[0mself\u001b[0m\u001b[1;33m.\u001b[0m\u001b[0mPAD\u001b[0m\u001b[1;33m)\u001b[0m\u001b[1;33m)\u001b[0m\u001b[1;33m\u001b[0m\u001b[1;33m\u001b[0m\u001b[0m\n\u001b[0;32m    172\u001b[0m \u001b[1;33m\u001b[0m\u001b[0m\n",

      "\u001b[1;32m~\\Anaconda3\\lib\\site-packages\\matplotlib\\table.py\u001b[0m in \u001b[0;36mget_text_bounds\u001b[1;34m(self, renderer)\u001b[0m\n\u001b[0;32m    162\u001b[0m         \u001b[0mReturn\u001b[0m \u001b[0mthe\u001b[0m \u001b[0mtext\u001b[0m \u001b[0mbounds\u001b[0m \u001b[1;32mas\u001b[0m \u001b[1;33m*\u001b[0m\u001b[1;33m(\u001b[0m\u001b[0mx\u001b[0m\u001b[1;33m,\u001b[0m \u001b[0my\u001b[0m\u001b[1;33m,\u001b[0m \u001b[0mwidth\u001b[0m\u001b[1;33m,\u001b[0m \u001b[0mheight\u001b[0m\u001b[1;33m)\u001b[0m\u001b[1;33m*\u001b[0m \u001b[1;32min\u001b[0m \u001b[0mtable\u001b[0m \u001b[0mcoordinates\u001b[0m\u001b[1;33m.\u001b[0m\u001b[1;33m\u001b[0m\u001b[1;33m\u001b[0m\u001b[0m\n\u001b[0;32m    163\u001b[0m         \"\"\"\n\u001b[1;32m--> 164\u001b[1;33m         return (self._text.get_window_extent(renderer)\n\u001b[0m\u001b[0;32m    165\u001b[0m                 \u001b[1;33m.\u001b[0m\u001b[0mtransformed\u001b[0m\u001b[1;33m(\u001b[0m\u001b[0mself\u001b[0m\u001b[1;33m.\u001b[0m\u001b[0mget_data_transform\u001b[0m\u001b[1;33m(\u001b[0m\u001b[1;33m)\u001b[0m\u001b[1;33m.\u001b[0m\u001b[0minverted\u001b[0m\u001b[1;33m(\u001b[0m\u001b[1;33m)\u001b[0m\u001b[1;33m)\u001b[0m\u001b[1;33m\u001b[0m\u001b[1;33m\u001b[0m\u001b[0m\n\u001b[0;32m    166\u001b[0m                 .bounds)\n",

      "\u001b[1;32m~\\Anaconda3\\lib\\site-packages\\matplotlib\\text.py\u001b[0m in \u001b[0;36mget_window_extent\u001b[1;34m(self, renderer, dpi)\u001b[0m\n\u001b[0;32m    898\u001b[0m \u001b[1;33m\u001b[0m\u001b[0m\n\u001b[0;32m    899\u001b[0m         \u001b[1;32mwith\u001b[0m \u001b[0mcbook\u001b[0m\u001b[1;33m.\u001b[0m\u001b[0m_setattr_cm\u001b[0m\u001b[1;33m(\u001b[0m\u001b[0mself\u001b[0m\u001b[1;33m.\u001b[0m\u001b[0mfigure\u001b[0m\u001b[1;33m,\u001b[0m \u001b[0mdpi\u001b[0m\u001b[1;33m=\u001b[0m\u001b[0mdpi\u001b[0m\u001b[1;33m)\u001b[0m\u001b[1;33m:\u001b[0m\u001b[1;33m\u001b[0m\u001b[1;33m\u001b[0m\u001b[0m\n\u001b[1;32m--> 900\u001b[1;33m             \u001b[0mbbox\u001b[0m\u001b[1;33m,\u001b[0m \u001b[0minfo\u001b[0m\u001b[1;33m,\u001b[0m \u001b[0mdescent\u001b[0m \u001b[1;33m=\u001b[0m \u001b[0mself\u001b[0m\u001b[1;33m.\u001b[0m\u001b[0m_get_layout\u001b[0m\u001b[1;33m(\u001b[0m\u001b[0mself\u001b[0m\u001b[1;33m.\u001b[0m\u001b[0m_renderer\u001b[0m\u001b[1;33m)\u001b[0m\u001b[1;33m\u001b[0m\u001b[1;33m\u001b[0m\u001b[0m\n\u001b[0m\u001b[0;32m    901\u001b[0m             \u001b[0mx\u001b[0m\u001b[1;33m,\u001b[0m \u001b[0my\u001b[0m \u001b[1;33m=\u001b[0m \u001b[0mself\u001b[0m\u001b[1;33m.\u001b[0m\u001b[0mget_unitless_position\u001b[0m\u001b[1;33m(\u001b[0m\u001b[1;33m)\u001b[0m\u001b[1;33m\u001b[0m\u001b[1;33m\u001b[0m\u001b[0m\n\u001b[0;32m    902\u001b[0m             \u001b[0mx\u001b[0m\u001b[1;33m,\u001b[0m \u001b[0my\u001b[0m \u001b[1;33m=\u001b[0m \u001b[0mself\u001b[0m\u001b[1;33m.\u001b[0m\u001b[0mget_transform\u001b[0m\u001b[1;33m(\u001b[0m\u001b[1;33m)\u001b[0m\u001b[1;33m.\u001b[0m\u001b[0mtransform\u001b[0m\u001b[1;33m(\u001b[0m\u001b[1;33m(\u001b[0m\u001b[0mx\u001b[0m\u001b[1;33m,\u001b[0m \u001b[0my\u001b[0m\u001b[1;33m)\u001b[0m\u001b[1;33m)\u001b[0m\u001b[1;33m\u001b[0m\u001b[1;33m\u001b[0m\u001b[0m\n",

      "\u001b[1;32m~\\Anaconda3\\lib\\site-packages\\matplotlib\\text.py\u001b[0m in \u001b[0;36m_get_layout\u001b[1;34m(self, renderer)\u001b[0m\n\u001b[0;32m    291\u001b[0m             \u001b[0mclean_line\u001b[0m\u001b[1;33m,\u001b[0m \u001b[0mismath\u001b[0m \u001b[1;33m=\u001b[0m \u001b[0mself\u001b[0m\u001b[1;33m.\u001b[0m\u001b[0m_preprocess_math\u001b[0m\u001b[1;33m(\u001b[0m\u001b[0mline\u001b[0m\u001b[1;33m)\u001b[0m\u001b[1;33m\u001b[0m\u001b[1;33m\u001b[0m\u001b[0m\n\u001b[0;32m    292\u001b[0m             \u001b[1;32mif\u001b[0m \u001b[0mclean_line\u001b[0m\u001b[1;33m:\u001b[0m\u001b[1;33m\u001b[0m\u001b[1;33m\u001b[0m\u001b[0m\n\u001b[1;32m--> 293\u001b[1;33m                 w, h, d = renderer.get_text_width_height_descent(\n\u001b[0m\u001b[0;32m    294\u001b[0m                     clean_line, self._fontproperties, ismath=ismath)\n\u001b[0;32m    295\u001b[0m             \u001b[1;32melse\u001b[0m\u001b[1;33m:\u001b[0m\u001b[1;33m\u001b[0m\u001b[1;33m\u001b[0m\u001b[0m\n",

      "\u001b[1;32m~\\Anaconda3\\lib\\site-packages\\matplotlib\\backends\\backend_agg.py\u001b[0m in \u001b[0;36mget_text_width_height_descent\u001b[1;34m(self, s, prop, ismath)\u001b[0m\n\u001b[0;32m    236\u001b[0m         \u001b[0mflags\u001b[0m \u001b[1;33m=\u001b[0m \u001b[0mget_hinting_flag\u001b[0m\u001b[1;33m(\u001b[0m\u001b[1;33m)\u001b[0m\u001b[1;33m\u001b[0m\u001b[1;33m\u001b[0m\u001b[0m\n\u001b[0;32m    237\u001b[0m         \u001b[0mfont\u001b[0m \u001b[1;33m=\u001b[0m \u001b[0mself\u001b[0m\u001b[1;33m.\u001b[0m\u001b[0m_get_agg_font\u001b[0m\u001b[1;33m(\u001b[0m\u001b[0mprop\u001b[0m\u001b[1;33m)\u001b[0m\u001b[1;33m\u001b[0m\u001b[1;33m\u001b[0m\u001b[0m\n\u001b[1;32m--> 238\u001b[1;33m         \u001b[0mfont\u001b[0m\u001b[1;33m.\u001b[0m\u001b[0mset_text\u001b[0m\u001b[1;33m(\u001b[0m\u001b[0ms\u001b[0m\u001b[1;33m,\u001b[0m \u001b[1;36m0.0\u001b[0m\u001b[1;33m,\u001b[0m \u001b[0mflags\u001b[0m\u001b[1;33m=\u001b[0m\u001b[0mflags\u001b[0m\u001b[1;33m)\u001b[0m\u001b[1;33m\u001b[0m\u001b[1;33m\u001b[0m\u001b[0m\n\u001b[0m\u001b[0;32m    239\u001b[0m         \u001b[0mw\u001b[0m\u001b[1;33m,\u001b[0m \u001b[0mh\u001b[0m \u001b[1;33m=\u001b[0m \u001b[0mfont\u001b[0m\u001b[1;33m.\u001b[0m\u001b[0mget_width_height\u001b[0m\u001b[1;33m(\u001b[0m\u001b[1;33m)\u001b[0m  \u001b[1;31m# width and height of unrotated string\u001b[0m\u001b[1;33m\u001b[0m\u001b[1;33m\u001b[0m\u001b[0m\n\u001b[0;32m    240\u001b[0m         \u001b[0md\u001b[0m \u001b[1;33m=\u001b[0m \u001b[0mfont\u001b[0m\u001b[1;33m.\u001b[0m\u001b[0mget_descent\u001b[0m\u001b[1;33m(\u001b[0m\u001b[1;33m)\u001b[0m\u001b[1;33m\u001b[0m\u001b[1;33m\u001b[0m\u001b[0m\n",

      "\u001b[1;31mRuntimeWarning\u001b[0m: Glyph 9 missing from current font."

     ]

    },

    {

     "data": {

      "text/plain": [

       "<Figure size 1800x691.2 with 2 Axes>"

      ]

     },

     "metadata": {},

     "output_type": "display_data"

    }

   ],

   "source": [

    "#1: calinski_harabasz\n",

    "#2: silhouette\n",

    "#0: distortion\n",

    "nclusters = get_elbow(base_dec,min.value,max.value,met_nclu.value)"

   ]

  },

  {

   "cell_type": "markdown",

   "metadata": {},

   "source": [

    "## Clúster"

   ]

  },

  {

   "cell_type": "code",

   "execution_count": null,

   "metadata": {},

   "outputs": [],

   "source": [

    "met_clu=widgets.Dropdown(\n",

    "    options=[('Kmeans',1), ('Kmedoids',2), ('Kprototypes',0)],\n",

    "    value=0,\n",

    "    description='Metodo:',\n",

    "    disabled=False,\n",

    ")\n",

    "display(met_clu)"

   ]

  },

  {

   "cell_type": "code",

   "execution_count": null,

   "metadata": {},

   "outputs": [],

   "source": [

    "dat['cluster'] = cluster(base_dec,nclusters,1)"

   ]

  },

  {

   "cell_type": "markdown",

   "metadata": {},

   "source": [

    "## Resultados"

   ]

  },

  {

   "cell_type": "code",

   "execution_count": null,

   "metadata": {},

   "outputs": [],

   "source": [

    "interpretacion(dat,num,cat)\n",

    "principales_vars(datos_norm)"

   ]

  },

  {

   "cell_type": "markdown",

   "metadata": {},

   "source": [

    "## Exportar"

   ]

  },

  {

   "cell_type": "code",

   "execution_count": null,

   "metadata": {},

   "outputs": [],

   "source": [

    "ruta_salida=widgets.Text(\n",

    "        value=ruta,\n",

    "        placeholder='¿Dónde quiere guardar resultados?',\n",

    "        description='¿Dónde quiere guardar resultados?',\n",

    "        disabled=False\n",

    "        )\n",

    "nombre_archivo=widgets.Text(\n",

    "        value=\"resultados\",\n",

    "        placeholder='¿nombre archivo guardar resultados?',\n",

    "        description='¿nombre archivo guardar resultados?',\n",

    "        disabled=False\n",

    "        )\n",

    "formato_salida=widgets.Dropdown(\n",

    "    options=[('xlsx',1), ('csv',0)],\n",

    "    value=1,\n",

    "    description='Formato Resultado:',\n",

    "    disabled=False,\n",

    ")\n",

    "opc_exp = widgets.HBox(ruta_salida,nombre_archivo,formato_salida) \n",

    "display(opc_exp)"

   ]

  },

  {

   "cell_type": "code",

   "execution_count": null,

   "metadata": {},

   "outputs": [],

   "source": [

    "# formato:\n",

    "# 1: xlsx\n",

    "# 2. csv\n",

    "exportar(dat,ruta_salida.value,nombre_archivo.value,formato_salida.value)"

   ]

  },

  {

   "cell_type": "code",

   "execution_count": null,

   "metadata": {},

   "outputs": [],

   "source": [

    "toggle = widgets.ToggleButton(description='Toggle visible')\n",

    "to_hide = widgets.IntRangeSlider(description = 'hide me')\n",

    "display(to_hide)\n",

    "display(toggle)\n",

    "\n",

    "def hide_slider(widg):\n",

    "    if widg['new']:\n",

    "        to_hide.layout.display = 'none'\n",

    "    else:\n",

    "        to_hide.layout.display = ''\n",

    "\n",

    "toggle.observe(hide_slider, names=['value'])"

   ]

  }

],

"metadata": {

  "kernelspec": {

   "display_name": "Python 3",

   "language": "python",

   "name": "python3"

  },

  "language_info": {

   "codemirror_mode": {

    "name": "ipython",

    "version": 3

   },

   "file_extension": ".py",

   "mimetype": "text/x-python",

   "name": "python",

   "nbconvert_exporter": "python",

   "pygments_lexer": "ipython3",

   "version": "3.8.5"

  }

},

"nbformat": 4,

"nbformat_minor": 4

}